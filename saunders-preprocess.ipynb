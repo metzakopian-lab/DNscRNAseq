{
 "cells": [
  {
   "cell_type": "code",
   "execution_count": 1,
   "metadata": {},
   "outputs": [
    {
     "name": "stderr",
     "output_type": "stream",
     "text": [
      "Loading required package: Biobase\n",
      "\n",
      "Loading required package: BiocGenerics\n",
      "\n",
      "Loading required package: parallel\n",
      "\n",
      "\n",
      "Attaching package: 'BiocGenerics'\n",
      "\n",
      "\n",
      "The following objects are masked from 'package:parallel':\n",
      "\n",
      "    clusterApply, clusterApplyLB, clusterCall, clusterEvalQ,\n",
      "    clusterExport, clusterMap, parApply, parCapply, parLapply,\n",
      "    parLapplyLB, parRapply, parSapply, parSapplyLB\n",
      "\n",
      "\n",
      "The following objects are masked from 'package:stats':\n",
      "\n",
      "    IQR, mad, sd, var, xtabs\n",
      "\n",
      "\n",
      "The following objects are masked from 'package:base':\n",
      "\n",
      "    anyDuplicated, append, as.data.frame, basename, cbind, colnames,\n",
      "    dirname, do.call, duplicated, eval, evalq, Filter, Find, get, grep,\n",
      "    grepl, intersect, is.unsorted, lapply, Map, mapply, match, mget,\n",
      "    order, paste, pmax, pmax.int, pmin, pmin.int, Position, rank,\n",
      "    rbind, Reduce, rownames, sapply, setdiff, sort, table, tapply,\n",
      "    union, unique, unsplit, which, which.max, which.min\n",
      "\n",
      "\n",
      "Welcome to Bioconductor\n",
      "\n",
      "    Vignettes contain introductory material; view with\n",
      "    'browseVignettes()'. To cite Bioconductor, see\n",
      "    'citation(\"Biobase\")', and for packages 'citation(\"pkgname\")'.\n",
      "\n",
      "\n",
      "Loading required package: SingleCellExperiment\n",
      "\n",
      "Loading required package: SummarizedExperiment\n",
      "\n",
      "Loading required package: GenomicRanges\n",
      "\n",
      "Loading required package: stats4\n",
      "\n",
      "Loading required package: S4Vectors\n",
      "\n",
      "\n",
      "Attaching package: 'S4Vectors'\n",
      "\n",
      "\n",
      "The following object is masked from 'package:base':\n",
      "\n",
      "    expand.grid\n",
      "\n",
      "\n",
      "Loading required package: IRanges\n",
      "\n",
      "\n",
      "Attaching package: 'IRanges'\n",
      "\n",
      "\n",
      "The following object is masked from 'package:grDevices':\n",
      "\n",
      "    windows\n",
      "\n",
      "\n",
      "Loading required package: GenomeInfoDb\n",
      "\n",
      "Loading required package: DelayedArray\n",
      "\n",
      "Loading required package: matrixStats\n",
      "\n",
      "\n",
      "Attaching package: 'matrixStats'\n",
      "\n",
      "\n",
      "The following objects are masked from 'package:Biobase':\n",
      "\n",
      "    anyMissing, rowMedians\n",
      "\n",
      "\n",
      "Loading required package: BiocParallel\n",
      "\n",
      "\n",
      "Attaching package: 'DelayedArray'\n",
      "\n",
      "\n",
      "The following objects are masked from 'package:matrixStats':\n",
      "\n",
      "    colMaxs, colMins, colRanges, rowMaxs, rowMins, rowRanges\n",
      "\n",
      "\n",
      "The following objects are masked from 'package:base':\n",
      "\n",
      "    aperm, apply, rowsum\n",
      "\n",
      "\n",
      "\n",
      "Attaching package: 'monocle3'\n",
      "\n",
      "\n",
      "The following objects are masked from 'package:Biobase':\n",
      "\n",
      "    exprs, fData, fData<-, pData, pData<-\n",
      "\n",
      "\n",
      "Warning message:\n",
      "\"package 'Seurat' was built under R version 3.6.2\"\n",
      "\n",
      "Attaching package: 'Seurat'\n",
      "\n",
      "\n",
      "The following object is masked from 'package:SummarizedExperiment':\n",
      "\n",
      "    Assays\n",
      "\n",
      "\n"
     ]
    }
   ],
   "source": [
    "library(monocle3)\n",
    "library(Seurat)\n",
    "\n"
   ]
  },
  {
   "cell_type": "code",
   "execution_count": null,
   "metadata": {},
   "outputs": [],
   "source": []
  },
  {
   "cell_type": "code",
   "execution_count": null,
   "metadata": {},
   "outputs": [],
   "source": [
    "\n"
   ]
  },
  {
   "cell_type": "code",
   "execution_count": 2,
   "metadata": {},
   "outputs": [
    {
     "name": "stderr",
     "output_type": "stream",
     "text": [
      "Loading required package: data.table\n",
      "\n",
      "Warning message:\n",
      "\"package 'data.table' was built under R version 3.6.2\"\n",
      "\n",
      "Attaching package: 'data.table'\n",
      "\n",
      "\n",
      "The following object is masked from 'package:SummarizedExperiment':\n",
      "\n",
      "    shift\n",
      "\n",
      "\n",
      "The following object is masked from 'package:GenomicRanges':\n",
      "\n",
      "    shift\n",
      "\n",
      "\n",
      "The following object is masked from 'package:IRanges':\n",
      "\n",
      "    shift\n",
      "\n",
      "\n",
      "The following objects are masked from 'package:S4Vectors':\n",
      "\n",
      "    first, second\n",
      "\n",
      "\n",
      "Loading required package: Matrix\n",
      "\n",
      "Warning message:\n",
      "\"package 'Matrix' was built under R version 3.6.2\"\n",
      "\n",
      "Attaching package: 'Matrix'\n",
      "\n",
      "\n",
      "The following object is masked from 'package:S4Vectors':\n",
      "\n",
      "    expand\n",
      "\n",
      "\n"
     ]
    },
    {
     "name": "stdout",
     "output_type": "stream",
     "text": [
      "[1] \"Cerebellum_ALT\"\n",
      "[1] \"EntoPeduncular\"\n"
     ]
    },
    {
     "name": "stderr",
     "output_type": "stream",
     "text": [
      "sro has 25651 features\n",
      "\n"
     ]
    },
    {
     "name": "stdout",
     "output_type": "stream",
     "text": [
      "[1] \"Cortex_noRep5_FRONTALonly\"\n"
     ]
    },
    {
     "name": "stderr",
     "output_type": "stream",
     "text": [
      "sro has 30079 features\n",
      "\n"
     ]
    },
    {
     "name": "stdout",
     "output_type": "stream",
     "text": [
      "[1] \"GlobusPallidus\"\n"
     ]
    },
    {
     "name": "stderr",
     "output_type": "stream",
     "text": [
      "sro has 30710 features\n",
      "\n"
     ]
    },
    {
     "name": "stdout",
     "output_type": "stream",
     "text": [
      "[1] \"Hippocampus\"\n"
     ]
    },
    {
     "name": "stderr",
     "output_type": "stream",
     "text": [
      "sro has 31292 features\n",
      "\n"
     ]
    },
    {
     "name": "stdout",
     "output_type": "stream",
     "text": [
      "[1] \"Cortex_noRep5_POSTERIORonly\"\n"
     ]
    },
    {
     "name": "stderr",
     "output_type": "stream",
     "text": [
      "sro has 31697 features\n",
      "\n"
     ]
    },
    {
     "name": "stdout",
     "output_type": "stream",
     "text": [
      "[1] \"Striatum\"\n"
     ]
    },
    {
     "name": "stderr",
     "output_type": "stream",
     "text": [
      "sro has 31832 features\n",
      "\n"
     ]
    },
    {
     "name": "stdout",
     "output_type": "stream",
     "text": [
      "[1] \"SubstantiaNigra\"\n"
     ]
    },
    {
     "name": "stderr",
     "output_type": "stream",
     "text": [
      "sro has 32057 features\n",
      "\n"
     ]
    },
    {
     "name": "stdout",
     "output_type": "stream",
     "text": [
      "[1] \"Thalamus\"\n"
     ]
    },
    {
     "name": "stderr",
     "output_type": "stream",
     "text": [
      "sro has 32307 features\n",
      "\n"
     ]
    }
   ],
   "source": [
    "extract.neurons <- function(){\n",
    "    library(DropSeq.util)\n",
    "    library(Seurat)\n",
    "\n",
    "    regions = list(\n",
    "            \"Cerebellum_ALT\" = c(\"CB\",\"cerebellum\"),\n",
    "            \"EntoPeduncular\" = c(\"ENT\",\"entopeduncular\"),\n",
    "            \"Cortex_noRep5_FRONTALonly\" = c(\"FC\", \"frontal_cortex\"),\n",
    "            \"GlobusPallidus\" = c(\"GP\",\"GlobusPallidus\"),\n",
    "            \"Hippocampus\" = c(\"HC\",\"Hippocampus\"),\n",
    "            \"Cortex_noRep5_POSTERIORonly\" = c(\"PC\", \"posterior_cortex\"),\n",
    "            \"Striatum\" = c(\"STR\", \"Striatum\"),\n",
    "            \"SubstantiaNigra\" = c(\"SN\",\"SubstantiaNigra\"), \n",
    "            \"Thalamus\" = c(\"TH\",\"Thalamus\")\n",
    "    )\n",
    "\n",
    "    saunders.meta = read.csv('saunders-macosko/annotation.BrainCellAtlas_Saunders_version_2018.04.01.csv')\n",
    "\n",
    "    sro = NULL\n",
    "\n",
    "    for (file.prefix in names(regions)){\n",
    "        print(file.prefix)\n",
    "        region.id = regions[[file.prefix]][1]\n",
    "        region.name = regions[[file.prefix]][2]   \n",
    "        saunders.data <- loadSparseDge(paste0(\"saunders-macosko/F_GRCm38.81.P60\",file.prefix,\".raw.dge.txt.gz\"))\n",
    "\n",
    "        clusters = readRDS(paste0(\"saunders-macosko/F_GRCm38.81.P60\",file.prefix,\".cell_cluster_outcomes.RDS\"))\n",
    "        subclusters = readRDS(paste0(\"saunders-macosko/F_GRCm38.81.P60\", file.prefix,\".subcluster.assign.RDS\"))\n",
    "        neuronal.clusters = subset(saunders.meta, (class == 'NEURON') & (tissue == region.id))\n",
    "        paste(\"Region\", region.name, \"dim\", dim(saunders.data))\n",
    "        sc = unique(neuronal.clusters$subcluster)\n",
    "        mask = !is.na(clusters$subcluster) & (clusters$subcluster %in% sc)\n",
    "        saunders.data = saunders.data[,mask]\n",
    "        cell.meta = clusters[mask,]\n",
    "        sro.tmp = CreateSeuratObject(saunders.data, project = paste0('saunders_',region.id))\n",
    "        sro.tmp@meta.data$region = region.id\n",
    "        sro.tmp@meta.data$cluster = as.factor(cell.meta$cluster)\n",
    "        sro.tmp@meta.data$subcluster = as.factor(cell.meta$subcluster) \n",
    "        if(is.null(sro)){\n",
    "            sro = sro.tmp\n",
    "        }else{\n",
    "            #if(length(sro) == length(sro.tmp) | any(rownames(sro) == rownames(sro.tmp))){\n",
    "            #    stop(paste0('Oh No', file.prefix,' gene vector mismatch'))\n",
    "            #}\n",
    "            sro = merge(sro, sro.tmp)\n",
    "            message(paste('sro has',length(rownames(sro)),'features'))\n",
    "            \n",
    "        }\n",
    "    }\n",
    "\n",
    "    saveRDS(sro, 'saunders-neurons.rds')\n",
    "    sro\n",
    "}\n",
    "\n",
    "sro <- extract.neurons()"
   ]
  },
  {
   "cell_type": "code",
   "execution_count": 6,
   "metadata": {},
   "outputs": [
    {
     "data": {
      "text/html": [
       "<ol class=list-inline>\n",
       "\t<li>32307</li>\n",
       "\t<li>177085</li>\n",
       "</ol>\n"
      ],
      "text/latex": [
       "\\begin{enumerate*}\n",
       "\\item 32307\n",
       "\\item 177085\n",
       "\\end{enumerate*}\n"
      ],
      "text/markdown": [
       "1. 32307\n",
       "2. 177085\n",
       "\n",
       "\n"
      ],
      "text/plain": [
       "[1]  32307 177085"
      ]
     },
     "metadata": {},
     "output_type": "display_data"
    }
   ],
   "source": []
  },
  {
   "cell_type": "code",
   "execution_count": 4,
   "metadata": {},
   "outputs": [
    {
     "name": "stderr",
     "output_type": "stream",
     "text": [
      "Loading required package: biomaRt\n",
      "\n"
     ]
    }
   ],
   "source": [
    "convertHumanGeneList <- function(x){\n",
    "    require(\"biomaRt\")\n",
    "    human = useMart(\"ensembl\", dataset = \"hsapiens_gene_ensembl\")\n",
    "    mouse = useMart(\"ensembl\", dataset = \"mmusculus_gene_ensembl\")\n",
    "\n",
    "    genesV2 = getLDS(attributes = c(\"hgnc_symbol\"), filters = \"hgnc_symbol\", values = x , mart = human, attributesL = c(\"mgi_symbol\"), martL = mouse, uniqueRows=T)\n",
    "\n",
    "    humanx <- genesV2\n",
    "    return(humanx)\n",
    "}\n",
    "\n",
    "convertMatrixToHomology <- function(mat){\n",
    "    \n",
    "    gene.set = rownames(mat)\n",
    "    homologues = convertHumanGeneList(gene.set)\n",
    "    # Exclude gene symbols not available in dataset\n",
    "    homologues = homologues[homologues$MGI.symbol %in% rownames(mat),]\n",
    "    \n",
    "    # Filter non unique genes! Maybe aggregate?\n",
    "    t.homo = data.frame(table(homologues$HGNC.symbol))\n",
    "    homo.unique = t.homo[t.homo$Freq == 1,]$Var1\n",
    "    homologues = homologues[homologues$HGNC.symbol %in% homo.unique,]\n",
    "    \n",
    "    # Remove from data genes that are not in the homologue list\n",
    "    mat.filtered = mat[rownames(mat) %in% homologues$MGI.symbol,]\n",
    "    # Sort genes according to dataframe\n",
    "    mat.homology = mat.filtered[homologues$MGI.symbol,]\n",
    "    \n",
    "    # replace with human genes\n",
    "    rownames(mat.homology) = homologues$HGNC.symbol\n",
    "    mat.homology\n",
    "}\n",
    "\n",
    "saunders.human = convertMatrixToHomology(sro@assays$RNA@counts)\n",
    "\n",
    "sro.human = CreateSeuratObject(saunders.human, project = 'saunders-neurons')\n",
    "sro.human@meta.data = sro@meta.data\n",
    "saveRDS(sro.human, 'saunders-with-human-genes.rds')"
   ]
  },
  {
   "cell_type": "code",
   "execution_count": 5,
   "metadata": {},
   "outputs": [
    {
     "name": "stderr",
     "output_type": "stream",
     "text": [
      "Warning message in new_cell_data_set(sro.human@assays$RNA@counts, cell_metadata = sro.human@meta.data):\n",
      "\"Warning: gene_metadata must contain a column verbatim named 'gene_short_name' for certain functions.\"\n"
     ]
    }
   ],
   "source": [
    "cds = new_cell_data_set(sro.human@assays$RNA@counts, cell_metadata = sro.human@meta.data)\n",
    "rowData(cds)$gene_short_name = rownames(cds)\n",
    "saveRDS(cds, './objects/saunders-homology-object-raw.rds')"
   ]
  },
  {
   "cell_type": "code",
   "execution_count": 8,
   "metadata": {},
   "outputs": [
    {
     "data": {
      "text/plain": [
       "DataFrame with 177085 rows and 7 columns\n",
       "                          orig.ident nCount_RNA nFeature_RNA      region\n",
       "                         <character>  <numeric>    <integer> <character>\n",
       "P60CBRep1P1_GACTCTACACCC P60CBRep1P1      11903         3873          CB\n",
       "P60CBRep1P1_GTACCTGAGCCT P60CBRep1P1       8849         3637          CB\n",
       "P60CBRep1P1_GCCCTATCTTGG P60CBRep1P1       7512         3089          CB\n",
       "P60CBRep1P1_TGAAGATAGGTC P60CBRep1P1       7027         3109          CB\n",
       "P60CBRep1P1_CAGCCGAAATGG P60CBRep1P1       6843         2959          CB\n",
       "...                              ...        ...          ...         ...\n",
       "P60THRep6P2_GGACTGAGAACA P60THRep6P2       1157          883          TH\n",
       "P60THRep6P2_GAGATCTGCTAA P60THRep6P2       1128          822          TH\n",
       "P60THRep6P2_TTTTTCGCGAAT P60THRep6P2       1111          810          TH\n",
       "P60THRep6P2_AGGTGAATTCAT P60THRep6P2       1082          832          TH\n",
       "P60THRep6P2_GTGTGACTGGTT P60THRep6P2       1074          770          TH\n",
       "                             cluster  subcluster       Size_Factor\n",
       "                         <character> <character>         <numeric>\n",
       "P60CBRep1P1_GACTCTACACCC           4         4-1  3.45134700745587\n",
       "P60CBRep1P1_GTACCTGAGCCT           4         4-3  2.60590340750694\n",
       "P60CBRep1P1_GCCCTATCTTGG           4         4-1  2.17994170668556\n",
       "P60CBRep1P1_TGAAGATAGGTC           4         4-3  2.10900493024773\n",
       "P60CBRep1P1_CAGCCGAAATGG           4         4-2  1.98895807781449\n",
       "...                              ...         ...               ...\n",
       "P60THRep6P2_GGACTGAGAACA           1         1-2 0.342747405384698\n",
       "P60THRep6P2_GAGATCTGCTAA           1         1-2 0.323649042497591\n",
       "P60THRep6P2_TTTTTCGCGAAT           1         1-4 0.317510282998163\n",
       "P60THRep6P2_AGGTGAATTCAT           1         1-1 0.319215493970226\n",
       "P60THRep6P2_GTGTGACTGGTT           1         1-2 0.310348396915498"
      ]
     },
     "metadata": {},
     "output_type": "display_data"
    }
   ],
   "source": [
    "colData(cds)"
   ]
  },
  {
   "cell_type": "code",
   "execution_count": null,
   "metadata": {},
   "outputs": [],
   "source": []
  },
  {
   "cell_type": "code",
   "execution_count": null,
   "metadata": {},
   "outputs": [],
   "source": []
  },
  {
   "cell_type": "code",
   "execution_count": 14,
   "metadata": {},
   "outputs": [
    {
     "name": "stderr",
     "output_type": "stream",
     "text": [
      "Warning message in new_cell_data_set(sro.human@assays$RNA@counts, cell_metadata = sro.human@meta.data):\n",
      "\"Warning: gene_metadata must contain a column verbatim named 'gene_short_name' for certain functions.\"\n"
     ]
    }
   ],
   "source": [
    "\n",
    "\n"
   ]
  },
  {
   "cell_type": "code",
   "execution_count": 6,
   "metadata": {},
   "outputs": [
    {
     "name": "stderr",
     "output_type": "stream",
     "text": [
      "Warning message in new_cell_data_set(sro.merged@assays$RNA@counts, cell_metadata = sro.merged@meta.data):\n",
      "\"Warning: gene_metadata must contain a column verbatim named 'gene_short_name' for certain functions.\"\n"
     ]
    }
   ],
   "source": [
    "\n",
    "\n",
    "#colData(cds.mouse)$Cell.Types = paste0(ds.name,'_',colData(cds.mouse)$subcluster)\n"
   ]
  },
  {
   "cell_type": "code",
   "execution_count": 8,
   "metadata": {},
   "outputs": [],
   "source": [
    "#saveRDS(sro.human, 'saunders-homology.rds')\n"
   ]
  },
  {
   "cell_type": "code",
   "execution_count": 12,
   "metadata": {},
   "outputs": [
    {
     "data": {
      "text/plain": [
       "DataFrame with 181357 rows and 8 columns\n",
       "                               orig.ident nCount_RNA nFeature_RNA\n",
       "                              <character>  <numeric>    <integer>\n",
       "AAACCTGAGAGCTATA-1-0-0        welsh-metza       4521         2211\n",
       "AAACCTGAGATGGGTC-1-0-0        welsh-metza       7509         2947\n",
       "AAACCTGAGCCAACAG-1-0-0        welsh-metza      10650         2975\n",
       "AAACCTGAGTCCCACG-1-0-0        welsh-metza       7419         2899\n",
       "AAACCTGCAAAGTGCG-1-0-0        welsh-metza       4128         1917\n",
       "...                                   ...        ...          ...\n",
       "P60THRep6P2_GGACTGAGAACA saunders-neurons        984          761\n",
       "P60THRep6P2_GAGATCTGCTAA saunders-neurons        930          693\n",
       "P60THRep6P2_TTTTTCGCGAAT saunders-neurons        911          670\n",
       "P60THRep6P2_AGGTGAATTCAT saunders-neurons        914          707\n",
       "P60THRep6P2_GTGTGACTGGTT saunders-neurons        894          675\n",
       "                                    region  subcluster           dataset\n",
       "                               <character> <character>       <character>\n",
       "AAACCTGAGAGCTATA-1-0-0    metzakopian_DAn1        DAn1       metzakopian\n",
       "AAACCTGAGATGGGTC-1-0-0    metzakopian_DAn1        DAn1       metzakopian\n",
       "AAACCTGAGCCAACAG-1-0-0   metzakopian_Prog2       Prog2       metzakopian\n",
       "AAACCTGAGTCCCACG-1-0-0    metzakopian_DAn1        DAn1       metzakopian\n",
       "AAACCTGCAAAGTGCG-1-0-0    metzakopian_DAn2        DAn2       metzakopian\n",
       "...                                    ...         ...               ...\n",
       "P60THRep6P2_GGACTGAGAACA                TH         1-2 saunders-homology\n",
       "P60THRep6P2_GAGATCTGCTAA                TH         1-2 saunders-homology\n",
       "P60THRep6P2_TTTTTCGCGAAT                TH         1-4 saunders-homology\n",
       "P60THRep6P2_AGGTGAATTCAT                TH         1-1 saunders-homology\n",
       "P60THRep6P2_GTGTGACTGGTT                TH         1-2 saunders-homology\n",
       "                             cluster       Size_Factor\n",
       "                         <character>         <numeric>\n",
       "AAACCTGAGAGCTATA-1-0-0          DAn1  1.55862696964009\n",
       "AAACCTGAGATGGGTC-1-0-0          DAn1  2.58874804579241\n",
       "AAACCTGAGCCAACAG-1-0-0         Prog2  3.67161628548264\n",
       "AAACCTGAGTCCCACG-1-0-0          DAn1  2.55772030253481\n",
       "AAACCTGCAAAGTGCG-1-0-0          DAn2  1.42313915741524\n",
       "...                              ...               ...\n",
       "P60THRep6P2_GGACTGAGAACA           1 0.339236659616424\n",
       "P60THRep6P2_GAGATCTGCTAA           1 0.320620013661864\n",
       "P60THRep6P2_TTTTTCGCGAAT           1 0.314069712307482\n",
       "P60THRep6P2_AGGTGAATTCAT           1 0.315103970416069\n",
       "P60THRep6P2_GTGTGACTGGTT           1 0.308208916358824"
      ]
     },
     "metadata": {},
     "output_type": "display_data"
    }
   ],
   "source": [
    "\n"
   ]
  },
  {
   "cell_type": "code",
   "execution_count": 279,
   "metadata": {},
   "outputs": [],
   "source": [
    "#cds.merged = combine_cds(list(cds.mouse, merged.in.vitro))\n"
   ]
  },
  {
   "cell_type": "code",
   "execution_count": 280,
   "metadata": {},
   "outputs": [],
   "source": []
  },
  {
   "cell_type": "code",
   "execution_count": 281,
   "metadata": {},
   "outputs": [
    {
     "name": "stderr",
     "output_type": "stream",
     "text": [
      "Warning message in new_cell_data_set(mat, cell_metadata = cells):\n",
      "\"Warning: gene_metadata must contain a column verbatim named 'gene_short_name' for certain functions.\"\n"
     ]
    }
   ],
   "source": []
  },
  {
   "cell_type": "code",
   "execution_count": 7,
   "metadata": {},
   "outputs": [
    {
     "name": "stderr",
     "output_type": "stream",
     "text": [
      "Aligning cells from different batches using Batchelor. \n",
      "Please remember to cite:\n",
      "\t Haghverdi L, Lun ATL, Morgan MD, Marioni JC (2018). 'Batch effects in single-cell RNA-sequencing data are corrected by matching mutual nearest neighbors.' Nat. Biotechnol., 36(5), 421-427. doi: 10.1038/nbt.4091\n",
      "\n",
      "Warning message in (function (jobs, data, centers, info, distance, k, query, get.index, :\n",
      "\"tied distances detected in nearest-neighbor calculation\"\n",
      "Warning message in (function (jobs, data, centers, info, distance, k, query, get.index, :\n",
      "\"tied distances detected in nearest-neighbor calculation\"\n",
      "Warning message in (function (jobs, data, centers, info, distance, k, query, get.index, :\n",
      "\"tied distances detected in nearest-neighbor calculation\"\n"
     ]
    },
    {
     "name": "stdout",
     "output_type": "stream",
     "text": [
      "[1] \"Reducing dimensionality\"\n"
     ]
    },
    {
     "name": "stderr",
     "output_type": "stream",
     "text": [
      "No preprocess_method specified, and aligned coordinates have been computed previously. Using preprocess_method = 'Aligned'\n",
      "\n"
     ]
    },
    {
     "name": "stdout",
     "output_type": "stream",
     "text": [
      "[1] \"Clustering cells\"\n",
      "  |======================================================================| 100%\n",
      "  |======================================================================| 100%\n",
      "  |======================================================================| 100%\n",
      "  |======================================================================| 100%\n",
      "  |======================================================================| 100%\n",
      "  |======================================================================| 100%\n",
      "  |======================================================================| 100%\n",
      "  |======================================================================| 100%\n",
      "  |======================================================================| 100%\n",
      "  |======================================================================| 100%\n",
      "  |======================================================================| 100%\n",
      "  |======================================================================| 100%\n",
      "  |======================================================================| 100%\n",
      "  |======================================================================| 100%\n",
      "  |======================================================================| 100%\n",
      "  |======================================================================| 100%\n"
     ]
    },
    {
     "name": "stderr",
     "output_type": "stream",
     "text": [
      "Warning message in min(data_df$weight[data_df$weight > 0]):\n",
      "\"no non-missing arguments to min; returning Inf\"\n"
     ]
    },
    {
     "data": {
      "image/png": "[encoded data removed]",
      "text/plain": [
       "plot without title"
      ]
     },
     "metadata": {
      "image/png": {
       "height": 420,
       "width": 420
      },
      "text/plain": {
       "height": 420,
       "width": 420
      }
     },
     "output_type": "display_data"
    }
   ],
   "source": [
    "\n",
    "\n",
    "cds<- cds.mouse\n",
    "# cds <- preprocess_cds(cds, num_dim = 100)\n",
    "# plot_pc_variance_explained(cds)\n",
    "\n",
    "\n",
    "\n",
    "# cds <- align_cds(cds, alignment_group = \"dataset\")\n",
    "# print('Reducing dimensionality')\n",
    "# cds <- reduce_dimension(cds)\n",
    "\n",
    "# print('Clustering cells')\n",
    "# cds <- cluster_cells(cds)\n",
    "\n",
    "# cds <- learn_graph(cds)\n"
   ]
  },
  {
   "cell_type": "code",
   "execution_count": 8,
   "metadata": {},
   "outputs": [],
   "source": [
    "# saveRDS(cds, 'normalized-cds-saunders-welch-metza.rds')"
   ]
  },
  {
   "cell_type": "code",
   "execution_count": 1,
   "metadata": {},
   "outputs": [
    {
     "name": "stderr",
     "output_type": "stream",
     "text": [
      "Loading required package: Biobase\n",
      "\n",
      "Loading required package: BiocGenerics\n",
      "\n",
      "Loading required package: parallel\n",
      "\n",
      "\n",
      "Attaching package: 'BiocGenerics'\n",
      "\n",
      "\n",
      "The following objects are masked from 'package:parallel':\n",
      "\n",
      "    clusterApply, clusterApplyLB, clusterCall, clusterEvalQ,\n",
      "    clusterExport, clusterMap, parApply, parCapply, parLapply,\n",
      "    parLapplyLB, parRapply, parSapply, parSapplyLB\n",
      "\n",
      "\n",
      "The following objects are masked from 'package:stats':\n",
      "\n",
      "    IQR, mad, sd, var, xtabs\n",
      "\n",
      "\n",
      "The following objects are masked from 'package:base':\n",
      "\n",
      "    anyDuplicated, append, as.data.frame, basename, cbind, colnames,\n",
      "    dirname, do.call, duplicated, eval, evalq, Filter, Find, get, grep,\n",
      "    grepl, intersect, is.unsorted, lapply, Map, mapply, match, mget,\n",
      "    order, paste, pmax, pmax.int, pmin, pmin.int, Position, rank,\n",
      "    rbind, Reduce, rownames, sapply, setdiff, sort, table, tapply,\n",
      "    union, unique, unsplit, which, which.max, which.min\n",
      "\n",
      "\n",
      "Welcome to Bioconductor\n",
      "\n",
      "    Vignettes contain introductory material; view with\n",
      "    'browseVignettes()'. To cite Bioconductor, see\n",
      "    'citation(\"Biobase\")', and for packages 'citation(\"pkgname\")'.\n",
      "\n",
      "\n",
      "Loading required package: SingleCellExperiment\n",
      "\n",
      "Loading required package: SummarizedExperiment\n",
      "\n",
      "Loading required package: GenomicRanges\n",
      "\n",
      "Loading required package: stats4\n",
      "\n",
      "Loading required package: S4Vectors\n",
      "\n",
      "\n",
      "Attaching package: 'S4Vectors'\n",
      "\n",
      "\n",
      "The following object is masked from 'package:base':\n",
      "\n",
      "    expand.grid\n",
      "\n",
      "\n",
      "Loading required package: IRanges\n",
      "\n",
      "\n",
      "Attaching package: 'IRanges'\n",
      "\n",
      "\n",
      "The following object is masked from 'package:grDevices':\n",
      "\n",
      "    windows\n",
      "\n",
      "\n",
      "Loading required package: GenomeInfoDb\n",
      "\n",
      "Loading required package: DelayedArray\n",
      "\n",
      "Loading required package: matrixStats\n",
      "\n",
      "\n",
      "Attaching package: 'matrixStats'\n",
      "\n",
      "\n",
      "The following objects are masked from 'package:Biobase':\n",
      "\n",
      "    anyMissing, rowMedians\n",
      "\n",
      "\n",
      "Loading required package: BiocParallel\n",
      "\n",
      "\n",
      "Attaching package: 'DelayedArray'\n",
      "\n",
      "\n",
      "The following objects are masked from 'package:matrixStats':\n",
      "\n",
      "    colMaxs, colMins, colRanges, rowMaxs, rowMins, rowRanges\n",
      "\n",
      "\n",
      "The following objects are masked from 'package:base':\n",
      "\n",
      "    aperm, apply, rowsum\n",
      "\n",
      "\n",
      "\n",
      "Attaching package: 'monocle3'\n",
      "\n",
      "\n",
      "The following objects are masked from 'package:Biobase':\n",
      "\n",
      "    exprs, fData, fData<-, pData, pData<-\n",
      "\n",
      "\n"
     ]
    }
   ],
   "source": [
    "library(monocle3)\n",
    "\n",
    "\n",
    "cds = readRDS('normalized-cds-saunders-welch-metza.rds')"
   ]
  },
  {
   "cell_type": "code",
   "execution_count": 17,
   "metadata": {},
   "outputs": [
    {
     "data": {
      "image/png": "[encoded data removed]",
      "text/plain": [
       "plot without title"
      ]
     },
     "metadata": {
      "image/png": {
       "height": 420,
       "width": 420
      },
      "text/plain": {
       "height": 420,
       "width": 420
      }
     },
     "output_type": "display_data"
    }
   ],
   "source": [
    "plot_cells(cds, label_cell_groups = FALSE)"
   ]
  },
  {
   "cell_type": "code",
   "execution_count": 13,
   "metadata": {},
   "outputs": [
    {
     "data": {
      "image/png": "[encoded data removed]",
      "text/plain": [
       "plot without title"
      ]
     },
     "metadata": {
      "image/png": {
       "height": 420,
       "width": 420
      },
      "text/plain": {
       "height": 420,
       "width": 420
      }
     },
     "output_type": "display_data"
    }
   ],
   "source": [
    "plot_cells(cds, color_cells_by = 'region', label_cell_groups = FALSE, show_trajectory_graph = F)"
   ]
  },
  {
   "cell_type": "code",
   "execution_count": 2,
   "metadata": {},
   "outputs": [
    {
     "data": {
      "image/png": "[encoded data removed]",
      "text/plain": [
       "plot without title"
      ]
     },
     "metadata": {
      "image/png": {
       "height": 420,
       "width": 420
      },
      "text/plain": {
       "height": 420,
       "width": 420
      }
     },
     "output_type": "display_data"
    }
   ],
   "source": [
    "plot_cells(cds, color_cells_by = 'dataset', label_cell_groups = T, show_trajectory_graph = F)\n",
    "\n"
   ]
  },
  {
   "cell_type": "code",
   "execution_count": null,
   "metadata": {},
   "outputs": [],
   "source": [
    "plot_cells(cds, genes=c('TH','SLC6A3'), label_cell_groups = FALSE, show_trajectory_graph = F)\n"
   ]
  },
  {
   "cell_type": "code",
   "execution_count": 286,
   "metadata": {},
   "outputs": [
    {
     "data": {
      "image/png": "[encoded data removed]",
      "text/plain": [
       "plot without title"
      ]
     },
     "metadata": {
      "image/png": {
       "height": 420,
       "width": 420
      },
      "text/plain": {
       "height": 420,
       "width": 420
      }
     },
     "output_type": "display_data"
    }
   ],
   "source": [
    "plot_cells(cds, color_cells_by = 'Cell.Types', label_cell_groups = FALSE)"
   ]
  },
  {
   "cell_type": "code",
   "execution_count": 18,
   "metadata": {},
   "outputs": [],
   "source": [
    "#plot_cells(cds[,clusters(cds) == '1'], color_cells_by = 'Cell.Types',label_cell_groups = FALSE)\n",
    "\n",
    "saveRDS(cds,'normalized-cds-with-welch.rds')\n",
    "\n",
    "#clusters(cds) %in%"
   ]
  },
  {
   "cell_type": "code",
   "execution_count": 75,
   "metadata": {},
   "outputs": [],
   "source": [
    "colData(cds)$clusters = clusters(cds)\n",
    "\n",
    "\n",
    "df = as.data.frame(colData(cds))\n",
    "df$region2 = df$region\n",
    "df$region2[df$dataset == 'metzakopian'] = df$cluster[df$dataset == 'metzakopian']\n",
    "\n",
    "df$region2[(df$dataset == 'saunders-homology') & (df$region != 'SN')] = 'saunders-other'"
   ]
  },
  {
   "cell_type": "code",
   "execution_count": 46,
   "metadata": {},
   "outputs": [
    {
     "data": {
      "image/png": "[encoded data removed]",
      "text/plain": [
       "plot without title"
      ]
     },
     "metadata": {
      "image/png": {
       "height": 420,
       "width": 420
      },
      "text/plain": {
       "height": 420,
       "width": 420
      }
     },
     "output_type": "display_data"
    }
   ],
   "source": [
    "library(ggplot2)\n",
    "\n",
    "ggplot(data = df, aes(fill = dataset, clusters)) + geom_bar()\n"
   ]
  },
  {
   "cell_type": "code",
   "execution_count": 78,
   "metadata": {},
   "outputs": [],
   "source": [
    "library(dplyr)\n",
    "summary.df = df %>% group_by(region2, clusters) %>% summarise(n = n()) %>%   mutate(freq = n / sum(n))\n",
    "\n",
    "q = ggplot(data = summary.df, aes(fill = region2, x = clusters, y = freq)) + geom_bar(stat='identity',position=\"dodge\")\n",
    "\n",
    "ggsave(plot = q, width = 15, height = 6, dpi = 300, filename = \"celltype.pdf\")\n",
    "\n",
    "#ggplot(df,aes(clusters, dataset)) + geom_bar()"
   ]
  },
  {
   "cell_type": "code",
   "execution_count": 56,
   "metadata": {},
   "outputs": [],
   "source": [
    "write.csv(summary.df, 'summary-cluster-overlap.csv')"
   ]
  },
  {
   "cell_type": "code",
   "execution_count": 77,
   "metadata": {},
   "outputs": [
    {
     "data": {
      "image/png": "[encoded data removed]",
      "text/plain": [
       "plot without title"
      ]
     },
     "metadata": {
      "image/png": {
       "height": 420,
       "width": 420
      },
      "text/plain": {
       "height": 420,
       "width": 420
      }
     },
     "output_type": "display_data"
    }
   ],
   "source": [
    "\n",
    "\n",
    "\n",
    "selected = df[df$clusters %in% c('14','56','50'),]\n",
    "\n",
    "summary.df = selected %>% group_by(cluster, clusters) %>% summarise(n = n()) %>%   mutate(freq = n / sum(n))\n",
    "q = ggplot(data = selected, aes(fill = cluster, x = clusters)) + geom_bar(position=\"dodge\")\n",
    "q\n"
   ]
  }
 ],
 "metadata": {
  "kernelspec": {
   "display_name": "R",
   "language": "R",
   "name": "ir"
  },
  "language_info": {
   "codemirror_mode": "r",
   "file_extension": ".r",
   "mimetype": "text/x-r-source",
   "name": "R",
   "pygments_lexer": "r",
   "version": "3.6.1"
  }
 },
 "nbformat": 4,
 "nbformat_minor": 4
}
