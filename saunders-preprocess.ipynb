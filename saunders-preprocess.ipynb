{
 "cells": [
  {
   "cell_type": "code",
   "execution_count": 1,
   "metadata": {},
   "outputs": [
    {
     "name": "stderr",
     "output_type": "stream",
     "text": [
      "Loading required package: Biobase\n",
      "\n",
      "Loading required package: BiocGenerics\n",
      "\n",
      "Loading required package: parallel\n",
      "\n",
      "\n",
      "Attaching package: 'BiocGenerics'\n",
      "\n",
      "\n",
      "The following objects are masked from 'package:parallel':\n",
      "\n",
      "    clusterApply, clusterApplyLB, clusterCall, clusterEvalQ,\n",
      "    clusterExport, clusterMap, parApply, parCapply, parLapply,\n",
      "    parLapplyLB, parRapply, parSapply, parSapplyLB\n",
      "\n",
      "\n",
      "The following objects are masked from 'package:stats':\n",
      "\n",
      "    IQR, mad, sd, var, xtabs\n",
      "\n",
      "\n",
      "The following objects are masked from 'package:base':\n",
      "\n",
      "    anyDuplicated, append, as.data.frame, basename, cbind, colnames,\n",
      "    dirname, do.call, duplicated, eval, evalq, Filter, Find, get, grep,\n",
      "    grepl, intersect, is.unsorted, lapply, Map, mapply, match, mget,\n",
      "    order, paste, pmax, pmax.int, pmin, pmin.int, Position, rank,\n",
      "    rbind, Reduce, rownames, sapply, setdiff, sort, table, tapply,\n",
      "    union, unique, unsplit, which, which.max, which.min\n",
      "\n",
      "\n",
      "Welcome to Bioconductor\n",
      "\n",
      "    Vignettes contain introductory material; view with\n",
      "    'browseVignettes()'. To cite Bioconductor, see\n",
      "    'citation(\"Biobase\")', and for packages 'citation(\"pkgname\")'.\n",
      "\n",
      "\n",
      "Loading required package: SingleCellExperiment\n",
      "\n",
      "Loading required package: SummarizedExperiment\n",
      "\n",
      "Loading required package: GenomicRanges\n",
      "\n",
      "Loading required package: stats4\n",
      "\n",
      "Loading required package: S4Vectors\n",
      "\n",
      "\n",
      "Attaching package: 'S4Vectors'\n",
      "\n",
      "\n",
      "The following object is masked from 'package:base':\n",
      "\n",
      "    expand.grid\n",
      "\n",
      "\n",
      "Loading required package: IRanges\n",
      "\n",
      "\n",
      "Attaching package: 'IRanges'\n",
      "\n",
      "\n",
      "The following object is masked from 'package:grDevices':\n",
      "\n",
      "    windows\n",
      "\n",
      "\n",
      "Loading required package: GenomeInfoDb\n",
      "\n",
      "Loading required package: DelayedArray\n",
      "\n",
      "Loading required package: matrixStats\n",
      "\n",
      "\n",
      "Attaching package: 'matrixStats'\n",
      "\n",
      "\n",
      "The following objects are masked from 'package:Biobase':\n",
      "\n",
      "    anyMissing, rowMedians\n",
      "\n",
      "\n",
      "Loading required package: BiocParallel\n",
      "\n",
      "\n",
      "Attaching package: 'DelayedArray'\n",
      "\n",
      "\n",
      "The following objects are masked from 'package:matrixStats':\n",
      "\n",
      "    colMaxs, colMins, colRanges, rowMaxs, rowMins, rowRanges\n",
      "\n",
      "\n",
      "The following objects are masked from 'package:base':\n",
      "\n",
      "    aperm, apply, rowsum\n",
      "\n",
      "\n",
      "\n",
      "Attaching package: 'monocle3'\n",
      "\n",
      "\n",
      "The following objects are masked from 'package:Biobase':\n",
      "\n",
      "    exprs, fData, fData<-, pData, pData<-\n",
      "\n",
      "\n",
      "Warning message:\n",
      "\"package 'Seurat' was built under R version 3.6.2\"\n",
      "\n",
      "Attaching package: 'Seurat'\n",
      "\n",
      "\n",
      "The following object is masked from 'package:SummarizedExperiment':\n",
      "\n",
      "    Assays\n",
      "\n",
      "\n"
     ]
    }
   ],
   "source": [
    "library(monocle3)\n",
    "library(Seurat)\n",
    "\n"
   ]
  },
  {
   "cell_type": "code",
   "execution_count": null,
   "metadata": {},
   "outputs": [],
   "source": []
  },
  {
   "cell_type": "code",
   "execution_count": null,
   "metadata": {},
   "outputs": [],
   "source": [
    "\n"
   ]
  },
  {
   "cell_type": "code",
   "execution_count": 2,
   "metadata": {},
   "outputs": [
    {
     "name": "stderr",
     "output_type": "stream",
     "text": [
      "Loading required package: data.table\n",
      "\n",
      "Warning message:\n",
      "\"package 'data.table' was built under R version 3.6.2\"\n",
      "\n",
      "Attaching package: 'data.table'\n",
      "\n",
      "\n",
      "The following object is masked from 'package:SummarizedExperiment':\n",
      "\n",
      "    shift\n",
      "\n",
      "\n",
      "The following object is masked from 'package:GenomicRanges':\n",
      "\n",
      "    shift\n",
      "\n",
      "\n",
      "The following object is masked from 'package:IRanges':\n",
      "\n",
      "    shift\n",
      "\n",
      "\n",
      "The following objects are masked from 'package:S4Vectors':\n",
      "\n",
      "    first, second\n",
      "\n",
      "\n",
      "Loading required package: Matrix\n",
      "\n",
      "Warning message:\n",
      "\"package 'Matrix' was built under R version 3.6.2\"\n",
      "\n",
      "Attaching package: 'Matrix'\n",
      "\n",
      "\n",
      "The following object is masked from 'package:S4Vectors':\n",
      "\n",
      "    expand\n",
      "\n",
      "\n"
     ]
    },
    {
     "name": "stdout",
     "output_type": "stream",
     "text": [
      "[1] \"Cerebellum_ALT\"\n",
      "[1] \"EntoPeduncular\"\n"
     ]
    },
    {
     "name": "stderr",
     "output_type": "stream",
     "text": [
      "sro has 25651 features\n",
      "\n"
     ]
    },
    {
     "name": "stdout",
     "output_type": "stream",
     "text": [
      "[1] \"Cortex_noRep5_FRONTALonly\"\n"
     ]
    },
    {
     "name": "stderr",
     "output_type": "stream",
     "text": [
      "sro has 30079 features\n",
      "\n"
     ]
    },
    {
     "name": "stdout",
     "output_type": "stream",
     "text": [
      "[1] \"GlobusPallidus\"\n"
     ]
    },
    {
     "name": "stderr",
     "output_type": "stream",
     "text": [
      "sro has 30710 features\n",
      "\n"
     ]
    },
    {
     "name": "stdout",
     "output_type": "stream",
     "text": [
      "[1] \"Hippocampus\"\n"
     ]
    },
    {
     "name": "stderr",
     "output_type": "stream",
     "text": [
      "sro has 31292 features\n",
      "\n"
     ]
    },
    {
     "name": "stdout",
     "output_type": "stream",
     "text": [
      "[1] \"Cortex_noRep5_POSTERIORonly\"\n"
     ]
    },
    {
     "name": "stderr",
     "output_type": "stream",
     "text": [
      "sro has 31697 features\n",
      "\n"
     ]
    },
    {
     "name": "stdout",
     "output_type": "stream",
     "text": [
      "[1] \"Striatum\"\n"
     ]
    },
    {
     "name": "stderr",
     "output_type": "stream",
     "text": [
      "sro has 31832 features\n",
      "\n"
     ]
    },
    {
     "name": "stdout",
     "output_type": "stream",
     "text": [
      "[1] \"SubstantiaNigra\"\n"
     ]
    },
    {
     "name": "stderr",
     "output_type": "stream",
     "text": [
      "sro has 32057 features\n",
      "\n"
     ]
    },
    {
     "name": "stdout",
     "output_type": "stream",
     "text": [
      "[1] \"Thalamus\"\n"
     ]
    },
    {
     "name": "stderr",
     "output_type": "stream",
     "text": [
      "sro has 32307 features\n",
      "\n"
     ]
    }
   ],
   "source": [
    "extract.neurons <- function(){\n",
    "    library(DropSeq.util)\n",
    "    library(Seurat)\n",
    "\n",
    "    regions = list(\n",
    "            \"Cerebellum_ALT\" = c(\"CB\",\"cerebellum\"),\n",
    "            \"EntoPeduncular\" = c(\"ENT\",\"entopeduncular\"),\n",
    "            \"Cortex_noRep5_FRONTALonly\" = c(\"FC\", \"frontal_cortex\"),\n",
    "            \"GlobusPallidus\" = c(\"GP\",\"GlobusPallidus\"),\n",
    "            \"Hippocampus\" = c(\"HC\",\"Hippocampus\"),\n",
    "            \"Cortex_noRep5_POSTERIORonly\" = c(\"PC\", \"posterior_cortex\"),\n",
    "            \"Striatum\" = c(\"STR\", \"Striatum\"),\n",
    "            \"SubstantiaNigra\" = c(\"SN\",\"SubstantiaNigra\"), \n",
    "            \"Thalamus\" = c(\"TH\",\"Thalamus\")\n",
    "    )\n",
    "\n",
    "    saunders.meta = read.csv('saunders-macosko/annotation.BrainCellAtlas_Saunders_version_2018.04.01.csv')\n",
    "\n",
    "    sro = NULL\n",
    "\n",
    "    for (file.prefix in names(regions)){\n",
    "        print(file.prefix)\n",
    "        region.id = regions[[file.prefix]][1]\n",
    "        region.name = regions[[file.prefix]][2]   \n",
    "        saunders.data <- loadSparseDge(paste0(\"saunders-macosko/F_GRCm38.81.P60\",file.prefix,\".raw.dge.txt.gz\"))\n",
    "\n",
    "        clusters = readRDS(paste0(\"saunders-macosko/F_GRCm38.81.P60\",file.prefix,\".cell_cluster_outcomes.RDS\"))\n",
    "        subclusters = readRDS(paste0(\"saunders-macosko/F_GRCm38.81.P60\", file.prefix,\".subcluster.assign.RDS\"))\n",
    "        neuronal.clusters = subset(saunders.meta, (class == 'NEURON') & (tissue == region.id))\n",
    "        paste(\"Region\", region.name, \"dim\", dim(saunders.data))\n",
    "        sc = unique(neuronal.clusters$subcluster)\n",
    "        mask = !is.na(clusters$subcluster) & (clusters$subcluster %in% sc)\n",
    "        saunders.data = saunders.data[,mask]\n",
    "        cell.meta = clusters[mask,]\n",
    "        sro.tmp = CreateSeuratObject(saunders.data, project = paste0('saunders_',region.id))\n",
    "        sro.tmp@meta.data$region = region.id\n",
    "        sro.tmp@meta.data$cluster = as.factor(cell.meta$cluster)\n",
    "        sro.tmp@meta.data$subcluster = as.factor(cell.meta$subcluster) \n",
    "        if(is.null(sro)){\n",
    "            sro = sro.tmp\n",
    "        }else{\n",
    "            #if(length(sro) == length(sro.tmp) | any(rownames(sro) == rownames(sro.tmp))){\n",
    "            #    stop(paste0('Oh No', file.prefix,' gene vector mismatch'))\n",
    "            #}\n",
    "            sro = merge(sro, sro.tmp)\n",
    "            message(paste('sro has',length(rownames(sro)),'features'))\n",
    "            \n",
    "        }\n",
    "    }\n",
    "\n",
    "    saveRDS(sro, 'saunders-neurons.rds')\n",
    "    sro\n",
    "}\n",
    "\n",
    "sro <- extract.neurons()"
   ]
  },
  {
   "cell_type": "code",
   "execution_count": 6,
   "metadata": {},
   "outputs": [
    {
     "data": {
      "text/html": [
       "<ol class=list-inline>\n",
       "\t<li>32307</li>\n",
       "\t<li>177085</li>\n",
       "</ol>\n"
      ],
      "text/latex": [
       "\\begin{enumerate*}\n",
       "\\item 32307\n",
       "\\item 177085\n",
       "\\end{enumerate*}\n"
      ],
      "text/markdown": [
       "1. 32307\n",
       "2. 177085\n",
       "\n",
       "\n"
      ],
      "text/plain": [
       "[1]  32307 177085"
      ]
     },
     "metadata": {},
     "output_type": "display_data"
    }
   ],
   "source": []
  },
  {
   "cell_type": "code",
   "execution_count": 4,
   "metadata": {},
   "outputs": [
    {
     "name": "stderr",
     "output_type": "stream",
     "text": [
      "Loading required package: biomaRt\n",
      "\n"
     ]
    }
   ],
   "source": [
    "convertHumanGeneList <- function(x){\n",
    "    require(\"biomaRt\")\n",
    "    human = useMart(\"ensembl\", dataset = \"hsapiens_gene_ensembl\")\n",
    "    mouse = useMart(\"ensembl\", dataset = \"mmusculus_gene_ensembl\")\n",
    "\n",
    "    genesV2 = getLDS(attributes = c(\"hgnc_symbol\"), filters = \"hgnc_symbol\", values = x , mart = human, attributesL = c(\"mgi_symbol\"), martL = mouse, uniqueRows=T)\n",
    "\n",
    "    humanx <- genesV2\n",
    "    return(humanx)\n",
    "}\n",
    "\n",
    "convertMatrixToHomology <- function(mat){\n",
    "    \n",
    "    gene.set = rownames(mat)\n",
    "    homologues = convertHumanGeneList(gene.set)\n",
    "    # Exclude gene symbols not available in dataset\n",
    "    homologues = homologues[homologues$MGI.symbol %in% rownames(mat),]\n",
    "    \n",
    "    # Filter non unique genes! Maybe aggregate?\n",
    "    t.homo = data.frame(table(homologues$HGNC.symbol))\n",
    "    homo.unique = t.homo[t.homo$Freq == 1,]$Var1\n",
    "    homologues = homologues[homologues$HGNC.symbol %in% homo.unique,]\n",
    "    \n",
    "    # Remove from data genes that are not in the homologue list\n",
    "    mat.filtered = mat[rownames(mat) %in% homologues$MGI.symbol,]\n",
    "    # Sort genes according to dataframe\n",
    "    mat.homology = mat.filtered[homologues$MGI.symbol,]\n",
    "    \n",
    "    # replace with human genes\n",
    "    rownames(mat.homology) = homologues$HGNC.symbol\n",
    "    mat.homology\n",
    "}\n",
    "\n",
    "saunders.human = convertMatrixToHomology(sro@assays$RNA@counts)\n",
    "\n",
    "sro.human = CreateSeuratObject(saunders.human, project = 'saunders-neurons')\n",
    "sro.human@meta.data = sro@meta.data\n",
    "saveRDS(sro.human, 'saunders-with-human-genes.rds')"
   ]
  },
  {
   "cell_type": "code",
   "execution_count": 5,
   "metadata": {},
   "outputs": [
    {
     "name": "stderr",
     "output_type": "stream",
     "text": [
      "Warning message in new_cell_data_set(sro.human@assays$RNA@counts, cell_metadata = sro.human@meta.data):\n",
      "\"Warning: gene_metadata must contain a column verbatim named 'gene_short_name' for certain functions.\"\n"
     ]
    }
   ],
   "source": [
    "cds = new_cell_data_set(sro.human@assays$RNA@counts, cell_metadata = sro.human@meta.data)\n",
    "rowData(cds)$gene_short_name = rownames(cds)\n",
    "saveRDS(cds, './objects/saunders-homology-object-raw.rds')"
   ]
  },
  {
   "cell_type": "code",
   "execution_count": null,
   "metadata": {},
   "outputs": [],
   "source": []
  }
 ],
 "metadata": {
  "kernelspec": {
   "display_name": "R",
   "language": "R",
   "name": "ir"
  },
  "language_info": {
   "codemirror_mode": "r",
   "file_extension": ".r",
   "mimetype": "text/x-r-source",
   "name": "R",
   "pygments_lexer": "r",
   "version": "3.6.1"
  }
 },
 "nbformat": 4,
 "nbformat_minor": 4
}
