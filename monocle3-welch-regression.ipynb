{
 "cells": [
  {
   "cell_type": "code",
   "execution_count": 1,
   "metadata": {},
   "outputs": [
    {
     "name": "stderr",
     "output_type": "stream",
     "text": [
      "Loading required package: Biobase\n",
      "\n",
      "Loading required package: BiocGenerics\n",
      "\n",
      "Loading required package: parallel\n",
      "\n",
      "\n",
      "Attaching package: 'BiocGenerics'\n",
      "\n",
      "\n",
      "The following objects are masked from 'package:parallel':\n",
      "\n",
      "    clusterApply, clusterApplyLB, clusterCall, clusterEvalQ,\n",
      "    clusterExport, clusterMap, parApply, parCapply, parLapply,\n",
      "    parLapplyLB, parRapply, parSapply, parSapplyLB\n",
      "\n",
      "\n",
      "The following objects are masked from 'package:stats':\n",
      "\n",
      "    IQR, mad, sd, var, xtabs\n",
      "\n",
      "\n",
      "The following objects are masked from 'package:base':\n",
      "\n",
      "    anyDuplicated, append, as.data.frame, basename, cbind, colnames,\n",
      "    dirname, do.call, duplicated, eval, evalq, Filter, Find, get, grep,\n",
      "    grepl, intersect, is.unsorted, lapply, Map, mapply, match, mget,\n",
      "    order, paste, pmax, pmax.int, pmin, pmin.int, Position, rank,\n",
      "    rbind, Reduce, rownames, sapply, setdiff, sort, table, tapply,\n",
      "    union, unique, unsplit, which, which.max, which.min\n",
      "\n",
      "\n",
      "Welcome to Bioconductor\n",
      "\n",
      "    Vignettes contain introductory material; view with\n",
      "    'browseVignettes()'. To cite Bioconductor, see\n",
      "    'citation(\"Biobase\")', and for packages 'citation(\"pkgname\")'.\n",
      "\n",
      "\n",
      "Loading required package: SingleCellExperiment\n",
      "\n",
      "Loading required package: SummarizedExperiment\n",
      "\n",
      "Loading required package: GenomicRanges\n",
      "\n",
      "Loading required package: stats4\n",
      "\n",
      "Loading required package: S4Vectors\n",
      "\n",
      "\n",
      "Attaching package: 'S4Vectors'\n",
      "\n",
      "\n",
      "The following object is masked from 'package:base':\n",
      "\n",
      "    expand.grid\n",
      "\n",
      "\n",
      "Loading required package: IRanges\n",
      "\n",
      "\n",
      "Attaching package: 'IRanges'\n",
      "\n",
      "\n",
      "The following object is masked from 'package:grDevices':\n",
      "\n",
      "    windows\n",
      "\n",
      "\n",
      "Loading required package: GenomeInfoDb\n",
      "\n",
      "Loading required package: DelayedArray\n",
      "\n",
      "Loading required package: matrixStats\n",
      "\n",
      "\n",
      "Attaching package: 'matrixStats'\n",
      "\n",
      "\n",
      "The following objects are masked from 'package:Biobase':\n",
      "\n",
      "    anyMissing, rowMedians\n",
      "\n",
      "\n",
      "Loading required package: BiocParallel\n",
      "\n",
      "\n",
      "Attaching package: 'DelayedArray'\n",
      "\n",
      "\n",
      "The following objects are masked from 'package:matrixStats':\n",
      "\n",
      "    colMaxs, colMins, colRanges, rowMaxs, rowMins, rowRanges\n",
      "\n",
      "\n",
      "The following objects are masked from 'package:base':\n",
      "\n",
      "    aperm, apply, rowsum\n",
      "\n",
      "\n",
      "\n",
      "Attaching package: 'monocle3'\n",
      "\n",
      "\n",
      "The following objects are masked from 'package:Biobase':\n",
      "\n",
      "    exprs, fData, fData<-, pData, pData<-\n",
      "\n",
      "\n"
     ]
    }
   ],
   "source": [
    "library(monocle3)\n",
    "library(ggplot2)"
   ]
  },
  {
   "cell_type": "code",
   "execution_count": 2,
   "metadata": {},
   "outputs": [],
   "source": [
    "cds <- readRDS('output/monocle3-metza-welch.rds')\n",
    "\n"
   ]
  },
  {
   "cell_type": "code",
   "execution_count": 22,
   "metadata": {},
   "outputs": [
    {
     "ename": "ERROR",
     "evalue": "Error in library(MatrixMM): there is no package called 'MatrixMM'\n",
     "output_type": "error",
     "traceback": [
      "Error in library(MatrixMM): there is no package called 'MatrixMM'\nTraceback:\n",
      "1. library(MatrixMM)"
     ]
    }
   ],
   "source": []
  },
  {
   "cell_type": "code",
   "execution_count": 8,
   "metadata": {},
   "outputs": [],
   "source": [
    "q = plot_cells(cds, color_cells_by = 'dataset',show_trajectory_graph = F,group_label_size = 2, label_cell_groups = F, alpha = 1)\n",
    "\n",
    "ggsave(paste0('plots-submit/welch-dataset.png'), q, dpi=600, width = 6, height = 5)"
   ]
  },
  {
   "cell_type": "code",
   "execution_count": 9,
   "metadata": {},
   "outputs": [
    {
     "data": {
      "image/png": "[encoded data removed]",
      "text/plain": [
       "plot without title"
      ]
     },
     "metadata": {
      "image/png": {
       "height": 420,
       "width": 420
      },
      "text/plain": {
       "height": 420,
       "width": 420
      }
     },
     "output_type": "display_data"
    }
   ],
   "source": [
    "q = plot_cells(cds ,show_trajectory_graph = F,group_label_size = 2, label_cell_groups = F, alpha = 1)\n",
    "\n",
    "ggsave(paste0('plots-submit/welch-clusters.png'), q, dpi=600, width = 6, height = 5)\n",
    "\n",
    "q"
   ]
  },
  {
   "cell_type": "code",
   "execution_count": 26,
   "metadata": {},
   "outputs": [
    {
     "data": {
      "text/plain": [
       "NULL"
      ]
     },
     "metadata": {},
     "output_type": "display_data"
    }
   ],
   "source": [
    "#plot_cells(cds, show_trajectory_graph = F)\n",
    "\n",
    "\n",
    "\n",
    "#write.csv(as.data.frame(colData(cds)),'welch-overlap-metadata.csv')\n",
    "\n",
    "colData(cds)$monocle3_clusters = clusters(cds)\n",
    "colData(cds)$UMAP1 = reducedDims(cds)$UMAP[,1]\n",
    "colData(cds)$UMAP2 = reducedDims(cds)$UMAP[,2]\n",
    "\n",
    "\n",
    "library(Matrix)\n",
    "\n",
    "writeMM(counts(cds), 'welch-merged.mtx')\n",
    "write.csv(colData(cds), 'welch-merged_cell-metadata.csv')\n",
    "write.csv(rowData(cds), 'welch-merged_gene-metadata.csv')"
   ]
  },
  {
   "cell_type": "code",
   "execution_count": 21,
   "metadata": {},
   "outputs": [],
   "source": [
    "write.csv(as.data.frame(colData(cds)),'welch-overlap-metadata.csv')"
   ]
  },
  {
   "cell_type": "code",
   "execution_count": 6,
   "metadata": {},
   "outputs": [],
   "source": [
    "q = plot_cells(cds, color_cells_by = 'partition', show_trajectory_graph = F, group_label_size = 1, label_cell_groups = T, alpha = 1)\n",
    "\n",
    "ggsave(paste0('plots-submit/saunders-partition.png'), q, dpi=600, width = 5, height = 5)"
   ]
  },
  {
   "cell_type": "code",
   "execution_count": 7,
   "metadata": {},
   "outputs": [
    {
     "name": "stderr",
     "output_type": "stream",
     "text": [
      "Aligning cells from different batches using Batchelor. \n",
      "Please remember to cite:\n",
      "\t Haghverdi L, Lun ATL, Morgan MD, Marioni JC (2018). 'Batch effects in single-cell RNA-sequencing data are corrected by matching mutual nearest neighbors.' Nat. Biotechnol., 36(5), 421-427. doi: 10.1038/nbt.4091\n",
      "\n",
      "Warning message in (function (jobs, data, centers, info, distance, k, query, get.index, :\n",
      "\"tied distances detected in nearest-neighbor calculation\"\n",
      "No preprocess_method specified, and aligned coordinates have been computed previously. Using preprocess_method = 'Aligned'\n",
      "\n"
     ]
    },
    {
     "name": "stdout",
     "output_type": "stream",
     "text": [
      "  |======================================================================| 100%\n",
      "  |======================================================================| 100%\n",
      "  |======================================================================| 100%\n",
      "  |======================================================================| 100%\n",
      "  |======================================================================| 100%\n",
      "  |======================================================================| 100%\n"
     ]
    }
   ],
   "source": [
    "focused.cds = cds[,(partitions(cds) == '1') | (colData(cds)$region == 'SN')]\n",
    "focused.cds = preprocess_cds(focused.cds, num_dim = 25)\n",
    "focused.cds = align_cds(focused.cds,alignment_group = 'dataset')\n",
    "focused.cds = reduce_dimension(focused.cds)\n",
    "focused.cds = cluster_cells(focused.cds, reduction_method = 'UMAP',k = 20)\n",
    "focused.cds = learn_graph(focused.cds)"
   ]
  },
  {
   "cell_type": "code",
   "execution_count": 8,
   "metadata": {},
   "outputs": [],
   "source": [
    "q = plot_cells(focused.cds , color_cells_by = 'region',show_trajectory_graph = F,group_label_size = 2, label_cell_groups = F, alpha = 1)\n",
    "\n",
    "ggsave(paste0('plots-submit/focused-saunders-region.png'), q, dpi=600, width = 6, height = 5)\n"
   ]
  },
  {
   "cell_type": "code",
   "execution_count": 9,
   "metadata": {},
   "outputs": [],
   "source": [
    "q = plot_cells(focused.cds , color_cells_by = 'dataset',show_trajectory_graph = F,group_label_size = 2, label_cell_groups = F, alpha = 1)\n",
    "\n",
    "ggsave(paste0('plots-submit/focused-saunders-dataset.png'), q, dpi=600, width = 6, height = 5)"
   ]
  },
  {
   "cell_type": "code",
   "execution_count": 10,
   "metadata": {},
   "outputs": [
    {
     "name": "stderr",
     "output_type": "stream",
     "text": [
      "Loading required package: cowplot\n",
      "\n",
      "\n",
      "********************************************************\n",
      "\n",
      "Note: As of version 1.0.0, cowplot does not change the\n",
      "\n",
      "  default ggplot2 theme anymore. To recover the previous\n",
      "\n",
      "  behavior, execute:\n",
      "  theme_set(theme_cowplot())\n",
      "\n",
      "********************************************************\n",
      "\n",
      "\n",
      "Loading required package: Matrix\n",
      "\n",
      "Warning message:\n",
      "\"package 'Matrix' was built under R version 3.6.2\"\n",
      "\n",
      "Attaching package: 'Matrix'\n",
      "\n",
      "\n",
      "The following object is masked from 'package:S4Vectors':\n",
      "\n",
      "    expand\n",
      "\n",
      "\n",
      "Loading required package: patchwork\n",
      "\n",
      "\n",
      "Attaching package: 'patchwork'\n",
      "\n",
      "\n",
      "The following object is masked from 'package:cowplot':\n",
      "\n",
      "    align_plots\n",
      "\n",
      "\n",
      "\n",
      "Attaching package: 'liger'\n",
      "\n",
      "\n",
      "The following object is masked from 'package:BiocGenerics':\n",
      "\n",
      "    normalize\n",
      "\n",
      "\n"
     ]
    }
   ],
   "source": [
    "library(liger)\n",
    "analyze.liger <- function(cds, object.name, correct, fields)\n",
    "{\n",
    "    objects = list()\n",
    "    fields.values = unique(colData(cds)[[correct]])\n",
    "    \n",
    "    for( f in fields.values){\n",
    "        print(f)\n",
    "        objects[[f]] = as.matrix(counts(cds[,(colData(cds)[[correct]] == f)]))\n",
    "    }\n",
    "    \n",
    "    ligerex = createLiger(objects) #Can also pass in more than 2 datasets\n",
    "    ligerex = normalize(ligerex)\n",
    "    ligerex = selectGenes(ligerex, var.thresh = 0.1)\n",
    "    ligerex = scaleNotCenter(ligerex)\n",
    "    ligerex = optimizeALS(ligerex, k = 20) \n",
    "    ligerex = quantileAlignSNF(ligerex)\n",
    "    ligerex = runUMAP(ligerex)\n",
    "    saveRDS(ligerex, paste0('./output/ligerex-',object.name,'.rds'))\n",
    "     for(f in fields){\n",
    "        ligerex@cell.data[[f]] = as.factor(colData(cds)[f][rownames(ligerex@cell.data),])\n",
    "        q = plotFeature(ligerex, f, by.dataset = F, discrete = T,return.plots = T)\n",
    "        ggsave(plot = q, width = 4, height = 4, dpi = 300, filename = paste0('./plots/liger-', object.name, '-',f,'.png'))\n",
    "    }   \n",
    "    ligerex\n",
    "}\n",
    "\n",
    "\n",
    "#liger.obj = readRDS(paste0('./output/ligerex-','focused-saunders-metzakopian','.rds'))\n",
    "\n",
    "\n",
    "\n",
    "\n"
   ]
  },
  {
   "cell_type": "code",
   "execution_count": 11,
   "metadata": {},
   "outputs": [],
   "source": [
    "q = plot_cells(focused.cds , show_trajectory_graph = F,group_label_size = 2, label_cell_groups = T, alpha = 1)\n",
    "\n",
    "ggsave(paste0('plots-submit/focused-saunders-clusters.png'), q, dpi=600, width = 6, height = 5)"
   ]
  },
  {
   "cell_type": "code",
   "execution_count": null,
   "metadata": {},
   "outputs": [],
   "source": []
  },
  {
   "cell_type": "code",
   "execution_count": 12,
   "metadata": {},
   "outputs": [
    {
     "data": {
      "text/plain": [
       "\n",
       "  CB_3   CB_4   DAn1   DAn3   DAn4  ENT_4   FC_1  FC_11   FC_2   GP_2   GP_3 \n",
       "     7     53    212      2      9     44      1      2      5    634      1 \n",
       "  PC_4   SN_3   SN_4 STR_13 STR_14   TH_2   TH_3 \n",
       "     1   1545      2     13     98      8    871 "
      ]
     },
     "metadata": {},
     "output_type": "display_data"
    }
   ],
   "source": [
    "selection = c('1')\n",
    "meta.cells = colData(focused.cds)[clusters(focused.cds) %in% selection,]\n",
    "\n",
    "table(meta.cells$Cell.Type)\n"
   ]
  },
  {
   "cell_type": "code",
   "execution_count": null,
   "metadata": {},
   "outputs": [],
   "source": []
  },
  {
   "cell_type": "code",
   "execution_count": null,
   "metadata": {},
   "outputs": [],
   "source": [
    "\n"
   ]
  },
  {
   "cell_type": "code",
   "execution_count": null,
   "metadata": {},
   "outputs": [],
   "source": []
  },
  {
   "cell_type": "code",
   "execution_count": null,
   "metadata": {},
   "outputs": [],
   "source": []
  },
  {
   "cell_type": "code",
   "execution_count": null,
   "metadata": {},
   "outputs": [],
   "source": []
  },
  {
   "cell_type": "code",
   "execution_count": 15,
   "metadata": {},
   "outputs": [],
   "source": [
    "cds.orig = cds\n",
    "cds  = focused.cds"
   ]
  },
  {
   "cell_type": "code",
   "execution_count": 16,
   "metadata": {},
   "outputs": [],
   "source": [
    "dan1.clusters = c('1')\n",
    "#dan4.clusters = c('60','25')\n",
    "colData(cds)$clusters= clusters(cds)\n",
    "\n",
    "colData(cds)$overlap = 'none'\n",
    "#colData(cds)$overlap[colData(cds)$clusters %in% dan4.clusters] = 'DAn4_overlap'\n",
    "colData(cds)$overlap[colData(cds)$clusters %in% dan1.clusters] = 'DAn1_overlap'"
   ]
  },
  {
   "cell_type": "code",
   "execution_count": 17,
   "metadata": {},
   "outputs": [],
   "source": [
    "\n",
    "\n",
    "q = plot_cells(cds , color_cells_by = 'overlap', show_trajectory_graph = F,group_label_size = 2, label_cell_groups = T, alpha = 1)\n",
    "ggsave(paste0('plots-submit/focused-saunders-overlap.png'), q, dpi=600, width = 6, height = 5)"
   ]
  },
  {
   "cell_type": "code",
   "execution_count": 18,
   "metadata": {},
   "outputs": [],
   "source": [
    "\n",
    "\n",
    "q = plot_cells(cds , color_cells_by = 'Cell.Type', show_trajectory_graph = F,group_label_size = 2, label_cell_groups = F, alpha = 1)\n",
    "ggsave(paste0('plots-submit/focused-saunders-celltype.png'), q,  dpi=600, width = 6, height = 5)"
   ]
  },
  {
   "cell_type": "code",
   "execution_count": 19,
   "metadata": {},
   "outputs": [
    {
     "data": {
      "text/html": [
       "<ol class=list-inline>\n",
       "\t<li>'CB_3'</li>\n",
       "\t<li>'CB_4'</li>\n",
       "\t<li>'DAn1'</li>\n",
       "\t<li>'DAn3'</li>\n",
       "\t<li>'DAn4'</li>\n",
       "\t<li>'ENT_4'</li>\n",
       "\t<li>'FC_1'</li>\n",
       "\t<li>'FC_11'</li>\n",
       "\t<li>'FC_2'</li>\n",
       "\t<li>'GP_2'</li>\n",
       "\t<li>'GP_3'</li>\n",
       "\t<li>'PC_4'</li>\n",
       "\t<li>'SN_3'</li>\n",
       "\t<li>'SN_4'</li>\n",
       "\t<li>'STR_13'</li>\n",
       "\t<li>'STR_14'</li>\n",
       "\t<li>'TH_2'</li>\n",
       "\t<li>'TH_3'</li>\n",
       "</ol>\n"
      ],
      "text/latex": [
       "\\begin{enumerate*}\n",
       "\\item 'CB\\_3'\n",
       "\\item 'CB\\_4'\n",
       "\\item 'DAn1'\n",
       "\\item 'DAn3'\n",
       "\\item 'DAn4'\n",
       "\\item 'ENT\\_4'\n",
       "\\item 'FC\\_1'\n",
       "\\item 'FC\\_11'\n",
       "\\item 'FC\\_2'\n",
       "\\item 'GP\\_2'\n",
       "\\item 'GP\\_3'\n",
       "\\item 'PC\\_4'\n",
       "\\item 'SN\\_3'\n",
       "\\item 'SN\\_4'\n",
       "\\item 'STR\\_13'\n",
       "\\item 'STR\\_14'\n",
       "\\item 'TH\\_2'\n",
       "\\item 'TH\\_3'\n",
       "\\end{enumerate*}\n"
      ],
      "text/markdown": [
       "1. 'CB_3'\n",
       "2. 'CB_4'\n",
       "3. 'DAn1'\n",
       "4. 'DAn3'\n",
       "5. 'DAn4'\n",
       "6. 'ENT_4'\n",
       "7. 'FC_1'\n",
       "8. 'FC_11'\n",
       "9. 'FC_2'\n",
       "10. 'GP_2'\n",
       "11. 'GP_3'\n",
       "12. 'PC_4'\n",
       "13. 'SN_3'\n",
       "14. 'SN_4'\n",
       "15. 'STR_13'\n",
       "16. 'STR_14'\n",
       "17. 'TH_2'\n",
       "18. 'TH_3'\n",
       "\n",
       "\n"
      ],
      "text/plain": [
       " [1] \"CB_3\"   \"CB_4\"   \"DAn1\"   \"DAn3\"   \"DAn4\"   \"ENT_4\"  \"FC_1\"   \"FC_11\" \n",
       " [9] \"FC_2\"   \"GP_2\"   \"GP_3\"   \"PC_4\"   \"SN_3\"   \"SN_4\"   \"STR_13\" \"STR_14\"\n",
       "[17] \"TH_2\"   \"TH_3\"  "
      ]
     },
     "metadata": {},
     "output_type": "display_data"
    }
   ],
   "source": [
    "\n",
    "cluster.selection = cds[,clusters(cds) %in% dan1.clusters]\n",
    "colData(cluster.selection)$type = 'in-vitro'\n",
    "colData(cluster.selection)$type = with(colData(cluster.selection), paste0(region,'_',subcluster))\n",
    "\n",
    "histo.table = table(colData(cluster.selection)$Cell.Type) \n",
    "\n",
    "ct.to.consider.dan1 = names(histo.table)\n",
    "ct.to.consider.dan1"
   ]
  },
  {
   "cell_type": "code",
   "execution_count": null,
   "metadata": {},
   "outputs": [],
   "source": [
    "\n"
   ]
  },
  {
   "cell_type": "code",
   "execution_count": 20,
   "metadata": {},
   "outputs": [],
   "source": [
    "write.csv(as.data.frame(colData(cds)[(colData(cds)$overlap == 'DAn1_overlap') & (colData(cds)$dataset == 'metzakopian'),]), 'saunders-overlap.csv')"
   ]
  },
  {
   "cell_type": "code",
   "execution_count": 21,
   "metadata": {},
   "outputs": [],
   "source": [
    "overlap.cds = cds[,colData(cds)$Cell.Type %in% c(ct.to.consider.dan1)]\n",
    "ct.view = colData(overlap.cds)\n",
    "\n",
    "\n",
    "#all.in.clusters= ct.view[ct.view,]\n",
    "#as.data.frame(all)\n"
   ]
  },
  {
   "cell_type": "code",
   "execution_count": 22,
   "metadata": {
    "scrolled": true
   },
   "outputs": [
    {
     "data": {
      "text/html": [
       "<table>\n",
       "<caption>A data.frame: 14 × 4</caption>\n",
       "<thead>\n",
       "\t<tr><th></th><th scope=col>region</th><th scope=col>total.cells</th><th scope=col>cells.in.overlap</th><th scope=col>percent</th></tr>\n",
       "\t<tr><th></th><th scope=col>&lt;fct&gt;</th><th scope=col>&lt;int&gt;</th><th scope=col>&lt;int&gt;</th><th scope=col>&lt;dbl&gt;</th></tr>\n",
       "</thead>\n",
       "<tbody>\n",
       "\t<tr><th scope=row>1</th><td>CB_3  </td><td>  11</td><td>   7</td><td>0.6363636</td></tr>\n",
       "\t<tr><th scope=row>2</th><td>CB_4  </td><td> 112</td><td>  53</td><td>0.4732143</td></tr>\n",
       "\t<tr><th scope=row>3</th><td>DAn1  </td><td>1044</td><td> 212</td><td>0.2030651</td></tr>\n",
       "\t<tr><th scope=row>6</th><td>ENT_4 </td><td>  61</td><td>  44</td><td>0.7213115</td></tr>\n",
       "\t<tr><th scope=row>7</th><td>FC_1  </td><td>   1</td><td>   1</td><td>1.0000000</td></tr>\n",
       "\t<tr><th scope=row>9</th><td>FC_2  </td><td>   6</td><td>   5</td><td>0.8333333</td></tr>\n",
       "\t<tr><th scope=row>10</th><td>GP_2  </td><td>2632</td><td> 634</td><td>0.2408815</td></tr>\n",
       "\t<tr><th scope=row>11</th><td>GP_3  </td><td>   7</td><td>   1</td><td>0.1428571</td></tr>\n",
       "\t<tr><th scope=row>12</th><td>PC_4  </td><td>   1</td><td>   1</td><td>1.0000000</td></tr>\n",
       "\t<tr><th scope=row>13</th><td>SN_3  </td><td>3421</td><td>1545</td><td>0.4516223</td></tr>\n",
       "\t<tr><th scope=row>15</th><td>STR_13</td><td> 102</td><td>  13</td><td>0.1274510</td></tr>\n",
       "\t<tr><th scope=row>16</th><td>STR_14</td><td>  98</td><td>  98</td><td>1.0000000</td></tr>\n",
       "\t<tr><th scope=row>17</th><td>TH_2  </td><td>  14</td><td>   8</td><td>0.5714286</td></tr>\n",
       "\t<tr><th scope=row>18</th><td>TH_3  </td><td>2688</td><td> 871</td><td>0.3240327</td></tr>\n",
       "</tbody>\n",
       "</table>\n"
      ],
      "text/latex": [
       "A data.frame: 14 × 4\n",
       "\\begin{tabular}{r|llll}\n",
       "  & region & total.cells & cells.in.overlap & percent\\\\\n",
       "  & <fct> & <int> & <int> & <dbl>\\\\\n",
       "\\hline\n",
       "\t1 & CB\\_3   &   11 &    7 & 0.6363636\\\\\n",
       "\t2 & CB\\_4   &  112 &   53 & 0.4732143\\\\\n",
       "\t3 & DAn1   & 1044 &  212 & 0.2030651\\\\\n",
       "\t6 & ENT\\_4  &   61 &   44 & 0.7213115\\\\\n",
       "\t7 & FC\\_1   &    1 &    1 & 1.0000000\\\\\n",
       "\t9 & FC\\_2   &    6 &    5 & 0.8333333\\\\\n",
       "\t10 & GP\\_2   & 2632 &  634 & 0.2408815\\\\\n",
       "\t11 & GP\\_3   &    7 &    1 & 0.1428571\\\\\n",
       "\t12 & PC\\_4   &    1 &    1 & 1.0000000\\\\\n",
       "\t13 & SN\\_3   & 3421 & 1545 & 0.4516223\\\\\n",
       "\t15 & STR\\_13 &  102 &   13 & 0.1274510\\\\\n",
       "\t16 & STR\\_14 &   98 &   98 & 1.0000000\\\\\n",
       "\t17 & TH\\_2   &   14 &    8 & 0.5714286\\\\\n",
       "\t18 & TH\\_3   & 2688 &  871 & 0.3240327\\\\\n",
       "\\end{tabular}\n"
      ],
      "text/markdown": [
       "\n",
       "A data.frame: 14 × 4\n",
       "\n",
       "| <!--/--> | region &lt;fct&gt; | total.cells &lt;int&gt; | cells.in.overlap &lt;int&gt; | percent &lt;dbl&gt; |\n",
       "|---|---|---|---|---|\n",
       "| 1 | CB_3   |   11 |    7 | 0.6363636 |\n",
       "| 2 | CB_4   |  112 |   53 | 0.4732143 |\n",
       "| 3 | DAn1   | 1044 |  212 | 0.2030651 |\n",
       "| 6 | ENT_4  |   61 |   44 | 0.7213115 |\n",
       "| 7 | FC_1   |    1 |    1 | 1.0000000 |\n",
       "| 9 | FC_2   |    6 |    5 | 0.8333333 |\n",
       "| 10 | GP_2   | 2632 |  634 | 0.2408815 |\n",
       "| 11 | GP_3   |    7 |    1 | 0.1428571 |\n",
       "| 12 | PC_4   |    1 |    1 | 1.0000000 |\n",
       "| 13 | SN_3   | 3421 | 1545 | 0.4516223 |\n",
       "| 15 | STR_13 |  102 |   13 | 0.1274510 |\n",
       "| 16 | STR_14 |   98 |   98 | 1.0000000 |\n",
       "| 17 | TH_2   |   14 |    8 | 0.5714286 |\n",
       "| 18 | TH_3   | 2688 |  871 | 0.3240327 |\n",
       "\n"
      ],
      "text/plain": [
       "   region total.cells cells.in.overlap percent  \n",
       "1  CB_3     11           7             0.6363636\n",
       "2  CB_4    112          53             0.4732143\n",
       "3  DAn1   1044         212             0.2030651\n",
       "6  ENT_4    61          44             0.7213115\n",
       "7  FC_1      1           1             1.0000000\n",
       "9  FC_2      6           5             0.8333333\n",
       "10 GP_2   2632         634             0.2408815\n",
       "11 GP_3      7           1             0.1428571\n",
       "12 PC_4      1           1             1.0000000\n",
       "13 SN_3   3421        1545             0.4516223\n",
       "15 STR_13  102          13             0.1274510\n",
       "16 STR_14   98          98             1.0000000\n",
       "17 TH_2     14           8             0.5714286\n",
       "18 TH_3   2688         871             0.3240327"
      ]
     },
     "metadata": {},
     "output_type": "display_data"
    }
   ],
   "source": [
    "ct.all  = ct.view[ct.view$Cell.Type %in% ct.to.consider.dan1,]\n",
    "ct.select  = ct.all[ct.all$overlap =='DAn1_overlap',]\n",
    "histo = as.data.frame(table(ct.all$Cell.Type ))\n",
    "histo.select = as.data.frame(table(ct.select$Cell.Type ))\n",
    "#histo = histo[histo$Freq > 0,] \n",
    "\n",
    "#colnames(histo) = c('overlap', 'celltype', 'cells')\n",
    "#histo\n",
    "\n",
    "histo.summary = merge(histo,histo.select, by ='Var1')\n",
    "colnames(histo.summary) = c('region','total.cells', 'cells.in.overlap')\n",
    "\n",
    "histo.summary$percent = as.numeric(with(histo.summary, cells.in.overlap / total.cells))\n",
    "\n",
    "histo.summary[histo.summary$percent > 0.1,]\n",
    "\n",
    "\n",
    "write.csv(histo.summary, './output/saunders-dan1-overlap.csv')"
   ]
  },
  {
   "cell_type": "code",
   "execution_count": null,
   "metadata": {},
   "outputs": [],
   "source": []
  }
 ],
 "metadata": {
  "kernelspec": {
   "display_name": "R",
   "language": "R",
   "name": "ir"
  },
  "language_info": {
   "codemirror_mode": "r",
   "file_extension": ".r",
   "mimetype": "text/x-r-source",
   "name": "R",
   "pygments_lexer": "r",
   "version": "3.6.1"
  }
 },
 "nbformat": 4,
 "nbformat_minor": 4
}
