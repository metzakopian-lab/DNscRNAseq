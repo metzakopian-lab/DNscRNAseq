{
 "cells": [
  {
   "cell_type": "code",
   "execution_count": 5,
   "metadata": {},
   "outputs": [],
   "source": [
    "library(monocle3)\n",
    "library(liger)\n",
    "library(ggplot2)\n",
    "library(purrr)\n",
    "library(dplyr)\n",
    "\n",
    "remove.not.expressed.features <- function(cds)\n",
    "{\n",
    "    return(cds[rowSums(counts(cds)) > 0,])\n",
    "}\n",
    "\n",
    "\n"
   ]
  },
  {
   "cell_type": "code",
   "execution_count": 6,
   "metadata": {},
   "outputs": [],
   "source": [
    "linnarson <- remove.not.expressed.features(readRDS('./objects/la-manno-embryo-object-raw.rds'))\n",
    "metzakopian <- remove.not.expressed.features((readRDS('./objects/metza-model-object-raw.rds')))\n",
    "welch <- remove.not.expressed.features(readRDS('./objects/welch-SN-object-raw.rds'))\n",
    "saunder.homology.neurons <- remove.not.expressed.features(readRDS('./objects/saunders-homology-object-raw.rds'))\n",
    "colData(linnarson)$Cell.Type = colData(linnarson)$Cell_type\n",
    "colData(linnarson)$dataset = 'linnarson-embryo'\n",
    "\n",
    "colData(saunder.homology.neurons)$dataset = 'saunder-neurons'\n",
    "colData(saunder.homology.neurons)$Cell.Type = with(colData(saunder.homology.neurons), paste0(region,'_',cluster))\n",
    "\n",
    "colData(metzakopian)$dataset = 'metzakopian'\n",
    "colData(metzakopian)$Cell.Type = colData(metzakopian)$Cell.Types\n",
    "colData(metzakopian)$region = 'in-vitro'\n",
    "colData(metzakopian)$Timepoint = 'Day47'\n",
    "\n"
   ]
  },
  {
   "cell_type": "code",
   "execution_count": null,
   "metadata": {},
   "outputs": [],
   "source": []
  },
  {
   "cell_type": "code",
   "execution_count": 7,
   "metadata": {},
   "outputs": [],
   "source": [
    "analyze.monocle3 <- function(cds, object.name, correct, fields, genes, filter.genes = TRUE)\n",
    "{\n",
    "    print(dim(cds))\n",
    "    if(filter.genes){\n",
    "        starting.gene.set = rownames(cds)\n",
    "        correct.values = unique(colData(cds)[[correct]])\n",
    "        for (val in correct.values)\n",
    "        {\n",
    "            mask = colData(cds)[[correct]] == val\n",
    "            # Everything that is expressed in 1% of the population\n",
    "            cutoff = sum(mask) * 0.01\n",
    "            cds.sub = cds[,mask]\n",
    "            genes.mask = rowSums(counts(cds.sub)) > cutoff\n",
    "            starting.gene.set = intersect(rownames(cds)[genes.mask], starting.gene.set)\n",
    "        }\n",
    "        print(paste('Analyzing',length(starting.gene.set), 'out of', length(rownames(cds))))\n",
    "        cds <- preprocess_cds(cds, num_dim = 100, use_genes = starting.gene.set)\n",
    "    }\n",
    "    else\n",
    "    {\n",
    "        cds <- preprocess_cds(cds, num_dim = 100)\n",
    "    }\n",
    "    \n",
    "    colData(cds)[[correct]] = as.factor(colData(cds)[[correct]])\n",
    "    cds <- align_cds(cds, alignment_group = correct)\n",
    "    \n",
    "    \n",
    "    q = plot_pc_variance_explained(cds)\n",
    "    ggsave(plot = q, width = 4, height = 4, dpi = 300, filename = paste0('./plots/', object.name, '-monocle3-variance.png'))\n",
    "    print('Reducing dimensionality')\n",
    "    cds <- reduce_dimension(cds)\n",
    "    print('Clustering cells')\n",
    "    cds <- cluster_cells(cds)\n",
    "    cds <- learn_graph(cds)\n",
    "    for(f in fields)\n",
    "    {\n",
    "        cell.groups.show = T\n",
    "        if(f == 'dataset'){\n",
    "            cell.groups.show = F\n",
    "        }\n",
    "        q = plot_cells(cds, color_cells_by = f, label_cell_groups = cell.groups.show, show_trajectory_graph = F)\n",
    "        ggsave(plot = q, width = 6, height = 6, dpi = 300, filename = paste0('./plots/', object.name, '-monocle3-',f,'.png'))\n",
    "    }\n",
    "    for(g in genes)\n",
    "    {\n",
    "        q = plot_cells(cds, genes = 'TH',show_trajectory_graph = F)\n",
    "        ggsave(plot = q, width = 6, height = 6, dpi = 300,  filename =  paste0('./plots/genes', object.name, '-monocle3-',g,'.png'))\n",
    "    }\n",
    "    \n",
    "    saveRDS(cds, paste0('./output/monocle3-',object.name,'.rds'))\n",
    "    cds\n",
    "\n",
    "}\n",
    "\n",
    "\n",
    "merge_to_cds <- function(cds.list, name, fields=c('Cell.Type','dataset'),genes = c('TH'),correct = 'dataset'){\n",
    "    library(purrr)\n",
    "    library(dplyr)\n",
    "    genes.list = purrr::reduce(cds.list, function(x, y){intersect(rownames(x),rownames(y))})\n",
    "    \n",
    "    l.cellmeta = map(cds.list, function(cds){as.data.frame(colData(cds))})\n",
    "    cell_meta = bind_rows(l.cellmeta)\n",
    "    rownames(cell_meta) =  purrr::reduce(l.cellmeta, function(x,y){c(rownames(x),rownames(y))})\n",
    "    cds = new_cell_data_set(\n",
    "        purrr::reduce(map(cds.list, function(cds){counts(cds)[genes.list,]}), cbind),\n",
    "        cell_metadata = cell_meta\n",
    "    )\n",
    "    rownames(cds) = genes.list\n",
    "    rowData(cds)$gene_short_name = genes.list\n",
    "    analyze.monocle3(cds, name, 'dataset', fields, genes)\n",
    "}\n"
   ]
  },
  {
   "cell_type": "code",
   "execution_count": null,
   "metadata": {},
   "outputs": [],
   "source": [
    "\n",
    "\n",
    "\n"
   ]
  },
  {
   "cell_type": "code",
   "execution_count": 16,
   "metadata": {},
   "outputs": [
    {
     "name": "stderr",
     "output_type": "stream",
     "text": [
      "Warning message in new_cell_data_set(purrr::reduce(map(cds.list, function(cds) {:\n",
      "\"Warning: gene_metadata must contain a column verbatim named 'gene_short_name' for certain functions.\"\n"
     ]
    },
    {
     "name": "stdout",
     "output_type": "stream",
     "text": [
      "[1] 15582  3265\n",
      "[1] \"Analyzing 13123 out of 15582\"\n"
     ]
    },
    {
     "name": "stderr",
     "output_type": "stream",
     "text": [
      "Aligning cells from different batches using Batchelor. \n",
      "Please remember to cite:\n",
      "\t Haghverdi L, Lun ATL, Morgan MD, Marioni JC (2018). 'Batch effects in single-cell RNA-sequencing data are corrected by matching mutual nearest neighbors.' Nat. Biotechnol., 36(5), 421-427. doi: 10.1038/nbt.4091\n",
      "\n"
     ]
    },
    {
     "name": "stdout",
     "output_type": "stream",
     "text": [
      "[1] \"Reducing dimensionality\"\n"
     ]
    },
    {
     "name": "stderr",
     "output_type": "stream",
     "text": [
      "No preprocess_method specified, and aligned coordinates have been computed previously. Using preprocess_method = 'Aligned'\n",
      "\n"
     ]
    },
    {
     "name": "stdout",
     "output_type": "stream",
     "text": [
      "[1] \"Clustering cells\"\n",
      "  |======================================================================| 100%\n",
      "  |======================================================================| 100%\n",
      "  |======================================================================| 100%\n"
     ]
    },
    {
     "data": {
      "text/plain": [
       "class: cell_data_set \n",
       "dim: 15582 3265 \n",
       "metadata(2): cds_version citations\n",
       "assays(1): counts\n",
       "rownames(15582): FO538757.2 AP006222.2 ... AC007325.4 AC240274.1\n",
       "rowData names(1): gene_short_name\n",
       "colnames(3265): AAACCTGAGAGCTATA-1-0 AAACCTGAGATGGGTC-1-0 ...\n",
       "  TTGGCAAGTATCAGTC-1-11 TTGGCAAGTGAGGGTT-1-11\n",
       "colData names(35): genotype sample ... pct_counts_in_top_200_genes\n",
       "  pct_counts_in_top_500_genes\n",
       "reducedDimNames(3): PCA Aligned UMAP\n",
       "spikeNames(0):"
      ]
     },
     "metadata": {},
     "output_type": "display_data"
    },
    {
     "name": "stderr",
     "output_type": "stream",
     "text": [
      "Warning message in new_cell_data_set(purrr::reduce(map(cds.list, function(cds) {:\n",
      "\"Warning: gene_metadata must contain a column verbatim named 'gene_short_name' for certain functions.\"\n"
     ]
    },
    {
     "name": "stdout",
     "output_type": "stream",
     "text": [
      "[1] 15582  8750\n",
      "[1] \"Analyzing 12500 out of 15582\"\n"
     ]
    },
    {
     "name": "stderr",
     "output_type": "stream",
     "text": [
      "Aligning cells from different batches using Batchelor. \n",
      "Please remember to cite:\n",
      "\t Haghverdi L, Lun ATL, Morgan MD, Marioni JC (2018). 'Batch effects in single-cell RNA-sequencing data are corrected by matching mutual nearest neighbors.' Nat. Biotechnol., 36(5), 421-427. doi: 10.1038/nbt.4091\n",
      "\n",
      "Warning message in (function (jobs, data, centers, info, distance, k, query, get.index, :\n",
      "\"tied distances detected in nearest-neighbor calculation\"\n"
     ]
    },
    {
     "name": "stdout",
     "output_type": "stream",
     "text": [
      "[1] \"Reducing dimensionality\"\n"
     ]
    },
    {
     "name": "stderr",
     "output_type": "stream",
     "text": [
      "No preprocess_method specified, and aligned coordinates have been computed previously. Using preprocess_method = 'Aligned'\n",
      "\n"
     ]
    },
    {
     "name": "stdout",
     "output_type": "stream",
     "text": [
      "[1] \"Clustering cells\"\n",
      "  |======================================================================| 100%\n",
      "  |======================================================================| 100%\n",
      "  |======================================================================| 100%\n",
      "  |======================================================================| 100%\n",
      "  |======================================================================| 100%\n",
      "  |======================================================================| 100%\n"
     ]
    },
    {
     "name": "stderr",
     "output_type": "stream",
     "text": [
      "Warning message in min(data_df$weight[data_df$weight > 0]):\n",
      "\"no non-missing arguments to min; returning Inf\"\n"
     ]
    },
    {
     "data": {
      "text/plain": [
       "class: cell_data_set \n",
       "dim: 15582 8750 \n",
       "metadata(2): cds_version citations\n",
       "assays(1): counts\n",
       "rownames(15582): FO538757.2 AP006222.2 ... AC007325.4 AC240274.1\n",
       "rowData names(1): gene_short_name\n",
       "colnames(8750): AAACCTGAGAGCTATA-1-0 AAACCTGAGATGGGTC-1-0 ...\n",
       "  TTTACTGGTTGTCGCG-1-11 TTTCCTCAGGCGTACA-1-11\n",
       "colData names(35): genotype sample ... pct_counts_in_top_200_genes\n",
       "  pct_counts_in_top_500_genes\n",
       "reducedDimNames(3): PCA Aligned UMAP\n",
       "spikeNames(0):"
      ]
     },
     "metadata": {},
     "output_type": "display_data"
    },
    {
     "name": "stderr",
     "output_type": "stream",
     "text": [
      "Warning message in new_cell_data_set(purrr::reduce(map(cds.list, function(cds) {:\n",
      "\"Warning: gene_metadata must contain a column verbatim named 'gene_short_name' for certain functions.\"\n"
     ]
    },
    {
     "name": "stdout",
     "output_type": "stream",
     "text": [
      "[1] 13981  4622\n",
      "[1] \"Analyzing 12731 out of 13981\"\n"
     ]
    },
    {
     "name": "stderr",
     "output_type": "stream",
     "text": [
      "Aligning cells from different batches using Batchelor. \n",
      "Please remember to cite:\n",
      "\t Haghverdi L, Lun ATL, Morgan MD, Marioni JC (2018). 'Batch effects in single-cell RNA-sequencing data are corrected by matching mutual nearest neighbors.' Nat. Biotechnol., 36(5), 421-427. doi: 10.1038/nbt.4091\n",
      "\n"
     ]
    },
    {
     "name": "stdout",
     "output_type": "stream",
     "text": [
      "[1] \"Reducing dimensionality\"\n"
     ]
    },
    {
     "name": "stderr",
     "output_type": "stream",
     "text": [
      "No preprocess_method specified, and aligned coordinates have been computed previously. Using preprocess_method = 'Aligned'\n",
      "\n"
     ]
    },
    {
     "name": "stdout",
     "output_type": "stream",
     "text": [
      "[1] \"Clustering cells\"\n",
      "  |======================================================================| 100%\n",
      "  |======================================================================| 100%\n"
     ]
    },
    {
     "data": {
      "text/plain": [
       "class: cell_data_set \n",
       "dim: 13981 4622 \n",
       "metadata(2): cds_version citations\n",
       "assays(1): counts\n",
       "rownames(13981): LINC00115 FAM41C ... S100B PRMT2\n",
       "rowData names(1): gene_short_name\n",
       "colnames(4622): AAACCTGAGAGCTATA-1-0 AAACCTGAGATGGGTC-1-0 ...\n",
       "  1772122_224_H10 1772122_224_H12\n",
       "colData names(29): genotype sample ... pct_counts_in_top_200_genes\n",
       "  pct_counts_in_top_500_genes\n",
       "reducedDimNames(3): PCA Aligned UMAP\n",
       "spikeNames(0):"
      ]
     },
     "metadata": {},
     "output_type": "display_data"
    },
    {
     "name": "stderr",
     "output_type": "stream",
     "text": [
      "Warning message in new_cell_data_set(purrr::reduce(map(cds.list, function(cds) {:\n",
      "\"Warning: gene_metadata must contain a column verbatim named 'gene_short_name' for certain functions.\"\n"
     ]
    },
    {
     "name": "stdout",
     "output_type": "stream",
     "text": [
      "[1]  11791 179730\n",
      "[1] \"Analyzing 9413 out of 11791\"\n"
     ]
    },
    {
     "name": "stderr",
     "output_type": "stream",
     "text": [
      "Aligning cells from different batches using Batchelor. \n",
      "Please remember to cite:\n",
      "\t Haghverdi L, Lun ATL, Morgan MD, Marioni JC (2018). 'Batch effects in single-cell RNA-sequencing data are corrected by matching mutual nearest neighbors.' Nat. Biotechnol., 36(5), 421-427. doi: 10.1038/nbt.4091\n",
      "\n",
      "Warning message in (function (jobs, data, centers, info, distance, k, query, get.index, :\n",
      "\"tied distances detected in nearest-neighbor calculation\"\n",
      "Warning message in (function (jobs, data, centers, info, distance, k, query, get.index, :\n",
      "\"tied distances detected in nearest-neighbor calculation\"\n"
     ]
    },
    {
     "name": "stdout",
     "output_type": "stream",
     "text": [
      "[1] \"Reducing dimensionality\"\n"
     ]
    },
    {
     "name": "stderr",
     "output_type": "stream",
     "text": [
      "No preprocess_method specified, and aligned coordinates have been computed previously. Using preprocess_method = 'Aligned'\n",
      "\n"
     ]
    },
    {
     "name": "stdout",
     "output_type": "stream",
     "text": [
      "[1] \"Clustering cells\"\n",
      "  |======================================================================| 100%\n",
      "  |======================================================================| 100%\n",
      "  |======================================================================| 100%\n",
      "  |======================================================================| 100%\n",
      "  |======================================================================| 100%\n",
      "  |======================================================================| 100%\n",
      "  |======================================================================| 100%\n",
      "  |======================================================================| 100%\n",
      "  |======================================================================| 100%\n",
      "  |======================================================================| 100%\n",
      "  |======================================================================| 100%\n",
      "  |======================================================================| 100%\n",
      "  |======================================================================| 100%\n"
     ]
    },
    {
     "name": "stderr",
     "output_type": "stream",
     "text": [
      "Warning message in min(data_df$weight[data_df$weight > 0]):\n",
      "\"no non-missing arguments to min; returning Inf\"\n"
     ]
    },
    {
     "data": {
      "text/plain": [
       "class: cell_data_set \n",
       "dim: 11791 179730 \n",
       "metadata(2): cds_version citations\n",
       "assays(1): counts\n",
       "rownames(11791): SAMD11 NOC2L ... MT-ND5 MT-ND6\n",
       "rowData names(1): gene_short_name\n",
       "colnames(179730): AAACCTGAGAGCTATA-1-0 AAACCTGAGATGGGTC-1-0 ...\n",
       "  P60THRep6P2_AGGTGAATTCAT P60THRep6P2_GTGTGACTGGTT\n",
       "colData names(28): genotype sample ... cluster subcluster\n",
       "reducedDimNames(3): PCA Aligned UMAP\n",
       "spikeNames(0):"
      ]
     },
     "metadata": {},
     "output_type": "display_data"
    },
    {
     "name": "stderr",
     "output_type": "stream",
     "text": [
      "Warning message in new_cell_data_set(purrr::reduce(map(cds.list, function(cds) {:\n",
      "\"Warning: gene_metadata must contain a column verbatim named 'gene_short_name' for certain functions.\"\n"
     ]
    },
    {
     "name": "stdout",
     "output_type": "stream",
     "text": [
      "[1]  14122 178899\n",
      "[1] \"Analyzing 9261 out of 14122\"\n"
     ]
    },
    {
     "ename": "ERROR",
     "evalue": "Error: cannot allocate vector of size 2.3 Gb\n",
     "output_type": "error",
     "traceback": [
      "Error: cannot allocate vector of size 2.3 Gb\nTraceback:\n",
      "1. merge_to_cds(list(welch, saunder.homology.neurons), \"welch-saunders\", \n .     fields = c(\"dataset\", \"Cell.Type\", \"region\"), genes = c(\"TH\", \n .         \"CALB1\"))",
      "2. analyze.monocle3(cds, name, \"dataset\", fields, genes)   # at line 70 of file <text>",
      "3. preprocess_cds(cds, num_dim = 100, use_genes = starting.gene.set)   # at line 17 of file <text>",
      "4. normalize_expr_data(cds, norm_method, pseudo_count)",
      "5. Matrix::t(Matrix::t(FM)/size_factors(cds))",
      "6. Matrix::t(FM)/size_factors(cds)",
      "7. Matrix::t(FM)/size_factors(cds)"
     ]
    }
   ],
   "source": [
    "merge_to_cds(list(metzakopian, linnarson),'metza-linna',fields = c('dataset','Cell.Type','Timepoint'))\n",
    "merge_to_cds(list(metzakopian, saunder.homology.neurons),'metza-saunders',fields = c('dataset','Cell.Type','region'))\n",
    "\n",
    "merge_to_cds(list(welch, saunder.homology.neurons),'welch-saunders', fields = c('dataset','Cell.Type','region'),genes = c('TH','CALB1'))\n",
    "merge_to_cds(list(welch, webber.neurons),'welch-webber-neurons',fields = c('dataset','Cell.Type','region'))\n",
    "\n",
    "\n",
    "\n"
   ]
  },
  {
   "cell_type": "code",
   "execution_count": null,
   "metadata": {},
   "outputs": [],
   "source": []
  }
 ],
 "metadata": {
  "kernelspec": {
   "display_name": "R",
   "language": "R",
   "name": "ir"
  },
  "language_info": {
   "codemirror_mode": "r",
   "file_extension": ".r",
   "mimetype": "text/x-r-source",
   "name": "R",
   "pygments_lexer": "r",
   "version": "3.6.1"
  }
 },
 "nbformat": 4,
 "nbformat_minor": 4
}
